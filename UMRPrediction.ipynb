{
  "nbformat": 4,
  "nbformat_minor": 0,
  "metadata": {
    "colab": {
      "name": "UMRPrediction.ipynb",
      "provenance": [],
      "collapsed_sections": []
    },
    "kernelspec": {
      "name": "python3",
      "display_name": "Python 3"
    },
    "language_info": {
      "name": "python"
    }
  },
  "cells": [
    {
      "cell_type": "markdown",
      "source": [
        "# **Proyek Akhir \"Application-Based Prediksi UMR Regional\"**"
      ],
      "metadata": {
        "id": "7jMjhNb8Z0QF"
      }
    },
    {
      "cell_type": "markdown",
      "source": [
        "Rencana Output : Sebuah application based yang melakukan prediksi UMR untuk setiap regional di tahun selanjutnya, yang nantinya ada menampilkan grafik pertumbuhan UMR untuk setiap regional dll(yang masih didiskusikan)."
      ],
      "metadata": {
        "id": "efbEDc7TaJhJ"
      }
    },
    {
      "cell_type": "markdown",
      "source": [
        "# **Data Preparation**"
      ],
      "metadata": {
        "id": "zfqsywi5dJtk"
      }
    },
    {
      "cell_type": "code",
      "execution_count": 51,
      "metadata": {
        "id": "dmXgA4tsTsW7"
      },
      "outputs": [],
      "source": [
        "import pandas as pd\n",
        "import numpy as np\n",
        "import matplotlib.pyplot as plt\n",
        "import seaborn as sns\n",
        "import warnings\n",
        "import plotly.express as px\n",
        "import joblib\n",
        "warnings.filterwarnings('ignore')"
      ]
    },
    {
      "cell_type": "code",
      "source": [
        "# Import dataset\n",
        "df = pd.read_csv('https://raw.githubusercontent.com/mzakibhr/ProyekAkhir-Orbit-Prediksi_UMR_Regional/main/Indonesian%20Salary%20by%20Region%20(1997-2022).csv')"
      ],
      "metadata": {
        "id": "JZlsumdOajrM"
      },
      "execution_count": 52,
      "outputs": []
    },
    {
      "cell_type": "code",
      "source": [
        "df.head()"
      ],
      "metadata": {
        "id": "BLdW0neqa6k-",
        "colab": {
          "base_uri": "https://localhost:8080/",
          "height": 206
        },
        "outputId": "d47f77ce-28fa-4e7e-bb73-8eb74ef47bbb"
      },
      "execution_count": 53,
      "outputs": [
        {
          "output_type": "execute_result",
          "data": {
            "text/plain": [
              "           REGION  SALARY  YEAR\n",
              "0            ACEH  128000  1997\n",
              "1  SUMATERA UTARA  151000  1997\n",
              "2  SUMATERA BARAT  119000  1997\n",
              "3            RIAU  151500  1997\n",
              "4           JAMBI  119500  1997"
            ],
            "text/html": [
              "\n",
              "  <div id=\"df-20c9ef2e-e264-4ee5-9077-fd365e129248\">\n",
              "    <div class=\"colab-df-container\">\n",
              "      <div>\n",
              "<style scoped>\n",
              "    .dataframe tbody tr th:only-of-type {\n",
              "        vertical-align: middle;\n",
              "    }\n",
              "\n",
              "    .dataframe tbody tr th {\n",
              "        vertical-align: top;\n",
              "    }\n",
              "\n",
              "    .dataframe thead th {\n",
              "        text-align: right;\n",
              "    }\n",
              "</style>\n",
              "<table border=\"1\" class=\"dataframe\">\n",
              "  <thead>\n",
              "    <tr style=\"text-align: right;\">\n",
              "      <th></th>\n",
              "      <th>REGION</th>\n",
              "      <th>SALARY</th>\n",
              "      <th>YEAR</th>\n",
              "    </tr>\n",
              "  </thead>\n",
              "  <tbody>\n",
              "    <tr>\n",
              "      <th>0</th>\n",
              "      <td>ACEH</td>\n",
              "      <td>128000</td>\n",
              "      <td>1997</td>\n",
              "    </tr>\n",
              "    <tr>\n",
              "      <th>1</th>\n",
              "      <td>SUMATERA UTARA</td>\n",
              "      <td>151000</td>\n",
              "      <td>1997</td>\n",
              "    </tr>\n",
              "    <tr>\n",
              "      <th>2</th>\n",
              "      <td>SUMATERA BARAT</td>\n",
              "      <td>119000</td>\n",
              "      <td>1997</td>\n",
              "    </tr>\n",
              "    <tr>\n",
              "      <th>3</th>\n",
              "      <td>RIAU</td>\n",
              "      <td>151500</td>\n",
              "      <td>1997</td>\n",
              "    </tr>\n",
              "    <tr>\n",
              "      <th>4</th>\n",
              "      <td>JAMBI</td>\n",
              "      <td>119500</td>\n",
              "      <td>1997</td>\n",
              "    </tr>\n",
              "  </tbody>\n",
              "</table>\n",
              "</div>\n",
              "      <button class=\"colab-df-convert\" onclick=\"convertToInteractive('df-20c9ef2e-e264-4ee5-9077-fd365e129248')\"\n",
              "              title=\"Convert this dataframe to an interactive table.\"\n",
              "              style=\"display:none;\">\n",
              "        \n",
              "  <svg xmlns=\"http://www.w3.org/2000/svg\" height=\"24px\"viewBox=\"0 0 24 24\"\n",
              "       width=\"24px\">\n",
              "    <path d=\"M0 0h24v24H0V0z\" fill=\"none\"/>\n",
              "    <path d=\"M18.56 5.44l.94 2.06.94-2.06 2.06-.94-2.06-.94-.94-2.06-.94 2.06-2.06.94zm-11 1L8.5 8.5l.94-2.06 2.06-.94-2.06-.94L8.5 2.5l-.94 2.06-2.06.94zm10 10l.94 2.06.94-2.06 2.06-.94-2.06-.94-.94-2.06-.94 2.06-2.06.94z\"/><path d=\"M17.41 7.96l-1.37-1.37c-.4-.4-.92-.59-1.43-.59-.52 0-1.04.2-1.43.59L10.3 9.45l-7.72 7.72c-.78.78-.78 2.05 0 2.83L4 21.41c.39.39.9.59 1.41.59.51 0 1.02-.2 1.41-.59l7.78-7.78 2.81-2.81c.8-.78.8-2.07 0-2.86zM5.41 20L4 18.59l7.72-7.72 1.47 1.35L5.41 20z\"/>\n",
              "  </svg>\n",
              "      </button>\n",
              "      \n",
              "  <style>\n",
              "    .colab-df-container {\n",
              "      display:flex;\n",
              "      flex-wrap:wrap;\n",
              "      gap: 12px;\n",
              "    }\n",
              "\n",
              "    .colab-df-convert {\n",
              "      background-color: #E8F0FE;\n",
              "      border: none;\n",
              "      border-radius: 50%;\n",
              "      cursor: pointer;\n",
              "      display: none;\n",
              "      fill: #1967D2;\n",
              "      height: 32px;\n",
              "      padding: 0 0 0 0;\n",
              "      width: 32px;\n",
              "    }\n",
              "\n",
              "    .colab-df-convert:hover {\n",
              "      background-color: #E2EBFA;\n",
              "      box-shadow: 0px 1px 2px rgba(60, 64, 67, 0.3), 0px 1px 3px 1px rgba(60, 64, 67, 0.15);\n",
              "      fill: #174EA6;\n",
              "    }\n",
              "\n",
              "    [theme=dark] .colab-df-convert {\n",
              "      background-color: #3B4455;\n",
              "      fill: #D2E3FC;\n",
              "    }\n",
              "\n",
              "    [theme=dark] .colab-df-convert:hover {\n",
              "      background-color: #434B5C;\n",
              "      box-shadow: 0px 1px 3px 1px rgba(0, 0, 0, 0.15);\n",
              "      filter: drop-shadow(0px 1px 2px rgba(0, 0, 0, 0.3));\n",
              "      fill: #FFFFFF;\n",
              "    }\n",
              "  </style>\n",
              "\n",
              "      <script>\n",
              "        const buttonEl =\n",
              "          document.querySelector('#df-20c9ef2e-e264-4ee5-9077-fd365e129248 button.colab-df-convert');\n",
              "        buttonEl.style.display =\n",
              "          google.colab.kernel.accessAllowed ? 'block' : 'none';\n",
              "\n",
              "        async function convertToInteractive(key) {\n",
              "          const element = document.querySelector('#df-20c9ef2e-e264-4ee5-9077-fd365e129248');\n",
              "          const dataTable =\n",
              "            await google.colab.kernel.invokeFunction('convertToInteractive',\n",
              "                                                     [key], {});\n",
              "          if (!dataTable) return;\n",
              "\n",
              "          const docLinkHtml = 'Like what you see? Visit the ' +\n",
              "            '<a target=\"_blank\" href=https://colab.research.google.com/notebooks/data_table.ipynb>data table notebook</a>'\n",
              "            + ' to learn more about interactive tables.';\n",
              "          element.innerHTML = '';\n",
              "          dataTable['output_type'] = 'display_data';\n",
              "          await google.colab.output.renderOutput(dataTable, element);\n",
              "          const docLink = document.createElement('div');\n",
              "          docLink.innerHTML = docLinkHtml;\n",
              "          element.appendChild(docLink);\n",
              "        }\n",
              "      </script>\n",
              "    </div>\n",
              "  </div>\n",
              "  "
            ]
          },
          "metadata": {},
          "execution_count": 53
        }
      ]
    },
    {
      "cell_type": "code",
      "source": [
        "sorted(set(df['REGION'].tolist()))"
      ],
      "metadata": {
        "colab": {
          "base_uri": "https://localhost:8080/"
        },
        "id": "JtVPOSg5SHrn",
        "outputId": "73b88583-71d3-4bac-8b9e-79d8e4fa4798"
      },
      "execution_count": 54,
      "outputs": [
        {
          "output_type": "execute_result",
          "data": {
            "text/plain": [
              "['ACEH',\n",
              " 'BALI',\n",
              " 'BANTEN',\n",
              " 'BENGKULU',\n",
              " 'DI YOGYAKARTA',\n",
              " 'DKI JAKARTA',\n",
              " 'GORONTALO',\n",
              " 'INDONESIA',\n",
              " 'JAMBI',\n",
              " 'JAWA BARAT',\n",
              " 'JAWA TENGAH',\n",
              " 'JAWA TIMUR',\n",
              " 'KALIMANTAN BARAT',\n",
              " 'KALIMANTAN SELATAN',\n",
              " 'KALIMANTAN TENGAH',\n",
              " 'KALIMANTAN TIMUR',\n",
              " 'KALIMANTAN UTARA',\n",
              " 'KEP. BANGKA BELITUNG',\n",
              " 'KEP. RIAU',\n",
              " 'LAMPUNG',\n",
              " 'MALUKU',\n",
              " 'MALUKU UTARA',\n",
              " 'NUSA TENGGARA BARAT',\n",
              " 'NUSA TENGGARA TIMUR',\n",
              " 'PAPUA',\n",
              " 'PAPUA BARAT',\n",
              " 'RIAU',\n",
              " 'SULAWESI BARAT',\n",
              " 'SULAWESI SELATAN',\n",
              " 'SULAWESI TENGAH',\n",
              " 'SULAWESI TENGGARA',\n",
              " 'SULAWESI UTARA',\n",
              " 'SUMATERA BARAT',\n",
              " 'SUMATERA SELATAN',\n",
              " 'SUMATERA UTARA']"
            ]
          },
          "metadata": {},
          "execution_count": 54
        }
      ]
    },
    {
      "cell_type": "code",
      "source": [
        "df.info()"
      ],
      "metadata": {
        "id": "sGo72HqMa8mH",
        "colab": {
          "base_uri": "https://localhost:8080/"
        },
        "outputId": "74f9f471-de6c-4e51-c115-55378429ad51"
      },
      "execution_count": 55,
      "outputs": [
        {
          "output_type": "stream",
          "name": "stdout",
          "text": [
            "<class 'pandas.core.frame.DataFrame'>\n",
            "RangeIndex: 870 entries, 0 to 869\n",
            "Data columns (total 3 columns):\n",
            " #   Column  Non-Null Count  Dtype \n",
            "---  ------  --------------  ----- \n",
            " 0   REGION  870 non-null    object\n",
            " 1   SALARY  870 non-null    int64 \n",
            " 2   YEAR    870 non-null    int64 \n",
            "dtypes: int64(2), object(1)\n",
            "memory usage: 20.5+ KB\n"
          ]
        }
      ]
    },
    {
      "cell_type": "code",
      "source": [
        "print(\"Regional Di Dataset :\")\n",
        "print(df.REGION.unique())\n",
        "print(\"\\nJumlah Regional :\")\n",
        "print(len(df.REGION.unique()))"
      ],
      "metadata": {
        "id": "8xRs-3XubDec",
        "colab": {
          "base_uri": "https://localhost:8080/"
        },
        "outputId": "7313a9fe-59f9-43a9-b003-7e594d4a0d27"
      },
      "execution_count": 56,
      "outputs": [
        {
          "output_type": "stream",
          "name": "stdout",
          "text": [
            "Regional Di Dataset :\n",
            "['ACEH' 'SUMATERA UTARA' 'SUMATERA BARAT' 'RIAU' 'JAMBI'\n",
            " 'SUMATERA SELATAN' 'BENGKULU' 'LAMPUNG' 'KEP. RIAU' 'DKI JAKARTA'\n",
            " 'JAWA BARAT' 'JAWA TENGAH' 'DI YOGYAKARTA' 'JAWA TIMUR' 'BALI'\n",
            " 'NUSA TENGGARA BARAT' 'NUSA TENGGARA TIMUR' 'KALIMANTAN BARAT'\n",
            " 'KALIMANTAN TENGAH' 'KALIMANTAN SELATAN' 'KALIMANTAN TIMUR'\n",
            " 'SULAWESI UTARA' 'SULAWESI TENGAH' 'SULAWESI SELATAN' 'SULAWESI TENGGARA'\n",
            " 'MALUKU' 'PAPUA' 'INDONESIA' 'KEP. BANGKA BELITUNG' 'BANTEN' 'GORONTALO'\n",
            " 'MALUKU UTARA' 'SULAWESI BARAT' 'PAPUA BARAT' 'KALIMANTAN UTARA']\n",
            "\n",
            "Jumlah Regional :\n",
            "35\n"
          ]
        }
      ]
    },
    {
      "cell_type": "markdown",
      "source": [
        "# **Data Visualization**"
      ],
      "metadata": {
        "id": "6m-u3qWEdTJg"
      }
    },
    {
      "cell_type": "code",
      "source": [
        "# Visualisasi rata-rata UMR keseluruhan per tahun\n",
        "avg_incr=df.groupby([\"YEAR\"]).mean().reset_index()\n",
        "\n",
        "fig = px.histogram(avg_incr, x='YEAR', y=\"SALARY\",\n",
        "  labels={\n",
        "      \"YEAR\": \"Tahun\",\n",
        "      \"SALARY\": \"UMR(Juta)\",\n",
        "      },\n",
        " title=\"Rata - rata UMR keseluruhan ditiap tahunnya\")\n",
        "fig.update_xaxes(type='category')\n",
        "fig.show(\"png\")"
      ],
      "metadata": {
        "id": "ZqEB3GPQqnX3",
        "colab": {
          "base_uri": "https://localhost:8080/",
          "height": 517
        },
        "outputId": "4e733248-5322-4665-93fe-71f5efa82201"
      },
      "execution_count": 57,
      "outputs": [
        {
          "output_type": "display_data",
          "data": {
            "image/png": "[encoded data removed]"
          },
          "metadata": {}
        }
      ]
    },
    {
      "cell_type": "code",
      "source": [
        "# Cek Pertumbuhan/Tahun\n",
        "growth=[0]\n",
        "for i in range(1,26):\n",
        "    growth.append(avg_incr[\"SALARY\"][i]-avg_incr[\"SALARY\"][i-1])\n",
        "\n",
        "avg_incr[\"growth\"]=growth\n",
        "avg_incr.head()"
      ],
      "metadata": {
        "id": "l_xWlIzkeUwm",
        "colab": {
          "base_uri": "https://localhost:8080/",
          "height": 206
        },
        "outputId": "74bc2d28-270c-45fb-ad36-b0a75089c06f"
      },
      "execution_count": 58,
      "outputs": [
        {
          "output_type": "execute_result",
          "data": {
            "text/plain": [
              "   YEAR         SALARY        growth\n",
              "0  1997  134964.285714      0.000000\n",
              "1  1998  150937.500000  15973.214286\n",
              "2  1999  175390.625000  24453.125000\n",
              "3  2000  216506.250000  41115.625000\n",
              "4  2001  290487.500000  73981.250000"
            ],
            "text/html": [
              "\n",
              "  <div id=\"df-2b118bfd-da5d-4faa-8117-079a49fe14c1\">\n",
              "    <div class=\"colab-df-container\">\n",
              "      <div>\n",
              "<style scoped>\n",
              "    .dataframe tbody tr th:only-of-type {\n",
              "        vertical-align: middle;\n",
              "    }\n",
              "\n",
              "    .dataframe tbody tr th {\n",
              "        vertical-align: top;\n",
              "    }\n",
              "\n",
              "    .dataframe thead th {\n",
              "        text-align: right;\n",
              "    }\n",
              "</style>\n",
              "<table border=\"1\" class=\"dataframe\">\n",
              "  <thead>\n",
              "    <tr style=\"text-align: right;\">\n",
              "      <th></th>\n",
              "      <th>YEAR</th>\n",
              "      <th>SALARY</th>\n",
              "      <th>growth</th>\n",
              "    </tr>\n",
              "  </thead>\n",
              "  <tbody>\n",
              "    <tr>\n",
              "      <th>0</th>\n",
              "      <td>1997</td>\n",
              "      <td>134964.285714</td>\n",
              "      <td>0.000000</td>\n",
              "    </tr>\n",
              "    <tr>\n",
              "      <th>1</th>\n",
              "      <td>1998</td>\n",
              "      <td>150937.500000</td>\n",
              "      <td>15973.214286</td>\n",
              "    </tr>\n",
              "    <tr>\n",
              "      <th>2</th>\n",
              "      <td>1999</td>\n",
              "      <td>175390.625000</td>\n",
              "      <td>24453.125000</td>\n",
              "    </tr>\n",
              "    <tr>\n",
              "      <th>3</th>\n",
              "      <td>2000</td>\n",
              "      <td>216506.250000</td>\n",
              "      <td>41115.625000</td>\n",
              "    </tr>\n",
              "    <tr>\n",
              "      <th>4</th>\n",
              "      <td>2001</td>\n",
              "      <td>290487.500000</td>\n",
              "      <td>73981.250000</td>\n",
              "    </tr>\n",
              "  </tbody>\n",
              "</table>\n",
              "</div>\n",
              "      <button class=\"colab-df-convert\" onclick=\"convertToInteractive('df-2b118bfd-da5d-4faa-8117-079a49fe14c1')\"\n",
              "              title=\"Convert this dataframe to an interactive table.\"\n",
              "              style=\"display:none;\">\n",
              "        \n",
              "  <svg xmlns=\"http://www.w3.org/2000/svg\" height=\"24px\"viewBox=\"0 0 24 24\"\n",
              "       width=\"24px\">\n",
              "    <path d=\"M0 0h24v24H0V0z\" fill=\"none\"/>\n",
              "    <path d=\"M18.56 5.44l.94 2.06.94-2.06 2.06-.94-2.06-.94-.94-2.06-.94 2.06-2.06.94zm-11 1L8.5 8.5l.94-2.06 2.06-.94-2.06-.94L8.5 2.5l-.94 2.06-2.06.94zm10 10l.94 2.06.94-2.06 2.06-.94-2.06-.94-.94-2.06-.94 2.06-2.06.94z\"/><path d=\"M17.41 7.96l-1.37-1.37c-.4-.4-.92-.59-1.43-.59-.52 0-1.04.2-1.43.59L10.3 9.45l-7.72 7.72c-.78.78-.78 2.05 0 2.83L4 21.41c.39.39.9.59 1.41.59.51 0 1.02-.2 1.41-.59l7.78-7.78 2.81-2.81c.8-.78.8-2.07 0-2.86zM5.41 20L4 18.59l7.72-7.72 1.47 1.35L5.41 20z\"/>\n",
              "  </svg>\n",
              "      </button>\n",
              "      \n",
              "  <style>\n",
              "    .colab-df-container {\n",
              "      display:flex;\n",
              "      flex-wrap:wrap;\n",
              "      gap: 12px;\n",
              "    }\n",
              "\n",
              "    .colab-df-convert {\n",
              "      background-color: #E8F0FE;\n",
              "      border: none;\n",
              "      border-radius: 50%;\n",
              "      cursor: pointer;\n",
              "      display: none;\n",
              "      fill: #1967D2;\n",
              "      height: 32px;\n",
              "      padding: 0 0 0 0;\n",
              "      width: 32px;\n",
              "    }\n",
              "\n",
              "    .colab-df-convert:hover {\n",
              "      background-color: #E2EBFA;\n",
              "      box-shadow: 0px 1px 2px rgba(60, 64, 67, 0.3), 0px 1px 3px 1px rgba(60, 64, 67, 0.15);\n",
              "      fill: #174EA6;\n",
              "    }\n",
              "\n",
              "    [theme=dark] .colab-df-convert {\n",
              "      background-color: #3B4455;\n",
              "      fill: #D2E3FC;\n",
              "    }\n",
              "\n",
              "    [theme=dark] .colab-df-convert:hover {\n",
              "      background-color: #434B5C;\n",
              "      box-shadow: 0px 1px 3px 1px rgba(0, 0, 0, 0.15);\n",
              "      filter: drop-shadow(0px 1px 2px rgba(0, 0, 0, 0.3));\n",
              "      fill: #FFFFFF;\n",
              "    }\n",
              "  </style>\n",
              "\n",
              "      <script>\n",
              "        const buttonEl =\n",
              "          document.querySelector('#df-2b118bfd-da5d-4faa-8117-079a49fe14c1 button.colab-df-convert');\n",
              "        buttonEl.style.display =\n",
              "          google.colab.kernel.accessAllowed ? 'block' : 'none';\n",
              "\n",
              "        async function convertToInteractive(key) {\n",
              "          const element = document.querySelector('#df-2b118bfd-da5d-4faa-8117-079a49fe14c1');\n",
              "          const dataTable =\n",
              "            await google.colab.kernel.invokeFunction('convertToInteractive',\n",
              "                                                     [key], {});\n",
              "          if (!dataTable) return;\n",
              "\n",
              "          const docLinkHtml = 'Like what you see? Visit the ' +\n",
              "            '<a target=\"_blank\" href=https://colab.research.google.com/notebooks/data_table.ipynb>data table notebook</a>'\n",
              "            + ' to learn more about interactive tables.';\n",
              "          element.innerHTML = '';\n",
              "          dataTable['output_type'] = 'display_data';\n",
              "          await google.colab.output.renderOutput(dataTable, element);\n",
              "          const docLink = document.createElement('div');\n",
              "          docLink.innerHTML = docLinkHtml;\n",
              "          element.appendChild(docLink);\n",
              "        }\n",
              "      </script>\n",
              "    </div>\n",
              "  </div>\n",
              "  "
            ]
          },
          "metadata": {},
          "execution_count": 58
        }
      ]
    },
    {
      "cell_type": "code",
      "source": [
        "# Visualisasi rata-rata pertumbuhan UMR keseluruhan pertahun\n",
        "fig = px.histogram(avg_incr, x='YEAR', y=\"growth\",\n",
        "  labels={\n",
        "      \"YEAR\": \"Tahun\",\n",
        "      \"growth\": \"Pertumbuhan(Rupiah)\",\n",
        "      },\n",
        " title=\"Rata - rata pertumbuhan UMR di tiap tahunnya\")\n",
        "fig.update_xaxes(type='category')\n",
        "fig.show(\"png\")"
      ],
      "metadata": {
        "id": "msJAfT1IqREk",
        "colab": {
          "base_uri": "https://localhost:8080/",
          "height": 517
        },
        "outputId": "ae741fe2-6525-469e-ddc9-cd10206fd20b"
      },
      "execution_count": 59,
      "outputs": [
        {
          "output_type": "display_data",
          "data": {
            "image/png": "[encoded data removed]"
          },
          "metadata": {}
        }
      ]
    },
    {
      "cell_type": "code",
      "source": [
        "# Visualisasi pergerakan UMR per Regional (tahun 1997-2022)\n",
        "\n",
        "fig = px.bar(df, x='REGION', y=\"SALARY\",color=\"REGION\",\n",
        "  animation_frame=\"YEAR\", range_y=[0,4766460], \n",
        "  labels={\n",
        "      \"REGION\": \"Region\",\n",
        "      \"SALARY\": \"UMR(Millions)\",\n",
        "      \"REGION\": \"Regional\"\n",
        "      },\n",
        " title=\"Animasi Pergerakan UMR(Regional) 1997 - 2022\")\n",
        "fig.update_layout(xaxis_visible=False, xaxis_showticklabels=False)\n",
        "fig.show(\"png\")"
      ],
      "metadata": {
        "id": "YC_dfpqjej0B",
        "colab": {
          "base_uri": "https://localhost:8080/",
          "height": 517
        },
        "outputId": "c6fdbe31-5f8b-4cff-8adb-c754ecfa6205"
      },
      "execution_count": 60,
      "outputs": [
        {
          "output_type": "display_data",
          "data": {
            "image/png": "[encoded data removed]"
          },
          "metadata": {}
        }
      ]
    },
    {
      "cell_type": "markdown",
      "source": [
        "## **Visualisasi Growth Untuk tiap Regional** (Mungkin akan digunakan untuk Dashboard saat Deploy)"
      ],
      "metadata": {
        "id": "0Q2MgqoJJ45L"
      }
    },
    {
      "cell_type": "code",
      "source": [
        "#@title Masukkan nama Regional yang ingin dilihat\n",
        "reg = \"DKI JAKARTA\" #@param {type:\"string\"}"
      ],
      "metadata": {
        "id": "eFXsRIlNgprW"
      },
      "execution_count": 61,
      "outputs": []
    },
    {
      "cell_type": "code",
      "source": [
        "reg = reg.upper()\n",
        "df_reg = df[df.REGION.str.contains(reg)].reset_index()"
      ],
      "metadata": {
        "id": "-ta2JgUEIiHm"
      },
      "execution_count": 62,
      "outputs": []
    },
    {
      "cell_type": "code",
      "source": [
        "# Visualisasi pergerakan UMR per Regional (tahun 1997-2022)\n",
        "fig = px.histogram(df_reg, x='YEAR', y=\"SALARY\",\n",
        "  labels={\n",
        "      \"YEAR\": \"Tahun\",\n",
        "      \"SALARY\": \"UMR(Millions)\",\n",
        "      },\n",
        " title=\"UMR %s 1997 - 2022\" %reg)\n",
        "fig.update_xaxes(type='category')\n",
        "fig.show(\"png\")"
      ],
      "metadata": {
        "id": "EUSyTAPZb9u2",
        "colab": {
          "base_uri": "https://localhost:8080/",
          "height": 517
        },
        "outputId": "d0b27063-7e95-4499-d557-669b8eb2c098"
      },
      "execution_count": 63,
      "outputs": [
        {
          "output_type": "display_data",
          "data": {
            "image/png": "[encoded data removed]"
          },
          "metadata": {}
        }
      ]
    },
    {
      "cell_type": "code",
      "source": [
        "# Cek Pertumbuhan per Tahun Regional\n",
        "growth_reg=[0]\n",
        "for i in range(1,26):\n",
        "    growth_reg.append(df_reg[\"SALARY\"][i]-df_reg[\"SALARY\"][i-1])\n",
        "\n",
        "df_reg[\"growth\"]=growth_reg\n",
        "df_reg.head()"
      ],
      "metadata": {
        "id": "WhsIu4mgPAzA",
        "colab": {
          "base_uri": "https://localhost:8080/",
          "height": 206
        },
        "outputId": "b25d3c0e-af08-43b5-e9de-bace52582198"
      },
      "execution_count": 64,
      "outputs": [
        {
          "output_type": "execute_result",
          "data": {
            "text/plain": [
              "   index       REGION  SALARY  YEAR  growth\n",
              "0      9  DKI JAKARTA  172500  1997       0\n",
              "1     38  DKI JAKARTA  198500  1998   26000\n",
              "2     70  DKI JAKARTA  231000  1999   32500\n",
              "3    102  DKI JAKARTA  286000  2000   55000\n",
              "4    134  DKI JAKARTA  426300  2001  140300"
            ],
            "text/html": [
              "\n",
              "  <div id=\"df-bfedac19-cbaa-41ca-88ee-8c026b73611e\">\n",
              "    <div class=\"colab-df-container\">\n",
              "      <div>\n",
              "<style scoped>\n",
              "    .dataframe tbody tr th:only-of-type {\n",
              "        vertical-align: middle;\n",
              "    }\n",
              "\n",
              "    .dataframe tbody tr th {\n",
              "        vertical-align: top;\n",
              "    }\n",
              "\n",
              "    .dataframe thead th {\n",
              "        text-align: right;\n",
              "    }\n",
              "</style>\n",
              "<table border=\"1\" class=\"dataframe\">\n",
              "  <thead>\n",
              "    <tr style=\"text-align: right;\">\n",
              "      <th></th>\n",
              "      <th>index</th>\n",
              "      <th>REGION</th>\n",
              "      <th>SALARY</th>\n",
              "      <th>YEAR</th>\n",
              "      <th>growth</th>\n",
              "    </tr>\n",
              "  </thead>\n",
              "  <tbody>\n",
              "    <tr>\n",
              "      <th>0</th>\n",
              "      <td>9</td>\n",
              "      <td>DKI JAKARTA</td>\n",
              "      <td>172500</td>\n",
              "      <td>1997</td>\n",
              "      <td>0</td>\n",
              "    </tr>\n",
              "    <tr>\n",
              "      <th>1</th>\n",
              "      <td>38</td>\n",
              "      <td>DKI JAKARTA</td>\n",
              "      <td>198500</td>\n",
              "      <td>1998</td>\n",
              "      <td>26000</td>\n",
              "    </tr>\n",
              "    <tr>\n",
              "      <th>2</th>\n",
              "      <td>70</td>\n",
              "      <td>DKI JAKARTA</td>\n",
              "      <td>231000</td>\n",
              "      <td>1999</td>\n",
              "      <td>32500</td>\n",
              "    </tr>\n",
              "    <tr>\n",
              "      <th>3</th>\n",
              "      <td>102</td>\n",
              "      <td>DKI JAKARTA</td>\n",
              "      <td>286000</td>\n",
              "      <td>2000</td>\n",
              "      <td>55000</td>\n",
              "    </tr>\n",
              "    <tr>\n",
              "      <th>4</th>\n",
              "      <td>134</td>\n",
              "      <td>DKI JAKARTA</td>\n",
              "      <td>426300</td>\n",
              "      <td>2001</td>\n",
              "      <td>140300</td>\n",
              "    </tr>\n",
              "  </tbody>\n",
              "</table>\n",
              "</div>\n",
              "      <button class=\"colab-df-convert\" onclick=\"convertToInteractive('df-bfedac19-cbaa-41ca-88ee-8c026b73611e')\"\n",
              "              title=\"Convert this dataframe to an interactive table.\"\n",
              "              style=\"display:none;\">\n",
              "        \n",
              "  <svg xmlns=\"http://www.w3.org/2000/svg\" height=\"24px\"viewBox=\"0 0 24 24\"\n",
              "       width=\"24px\">\n",
              "    <path d=\"M0 0h24v24H0V0z\" fill=\"none\"/>\n",
              "    <path d=\"M18.56 5.44l.94 2.06.94-2.06 2.06-.94-2.06-.94-.94-2.06-.94 2.06-2.06.94zm-11 1L8.5 8.5l.94-2.06 2.06-.94-2.06-.94L8.5 2.5l-.94 2.06-2.06.94zm10 10l.94 2.06.94-2.06 2.06-.94-2.06-.94-.94-2.06-.94 2.06-2.06.94z\"/><path d=\"M17.41 7.96l-1.37-1.37c-.4-.4-.92-.59-1.43-.59-.52 0-1.04.2-1.43.59L10.3 9.45l-7.72 7.72c-.78.78-.78 2.05 0 2.83L4 21.41c.39.39.9.59 1.41.59.51 0 1.02-.2 1.41-.59l7.78-7.78 2.81-2.81c.8-.78.8-2.07 0-2.86zM5.41 20L4 18.59l7.72-7.72 1.47 1.35L5.41 20z\"/>\n",
              "  </svg>\n",
              "      </button>\n",
              "      \n",
              "  <style>\n",
              "    .colab-df-container {\n",
              "      display:flex;\n",
              "      flex-wrap:wrap;\n",
              "      gap: 12px;\n",
              "    }\n",
              "\n",
              "    .colab-df-convert {\n",
              "      background-color: #E8F0FE;\n",
              "      border: none;\n",
              "      border-radius: 50%;\n",
              "      cursor: pointer;\n",
              "      display: none;\n",
              "      fill: #1967D2;\n",
              "      height: 32px;\n",
              "      padding: 0 0 0 0;\n",
              "      width: 32px;\n",
              "    }\n",
              "\n",
              "    .colab-df-convert:hover {\n",
              "      background-color: #E2EBFA;\n",
              "      box-shadow: 0px 1px 2px rgba(60, 64, 67, 0.3), 0px 1px 3px 1px rgba(60, 64, 67, 0.15);\n",
              "      fill: #174EA6;\n",
              "    }\n",
              "\n",
              "    [theme=dark] .colab-df-convert {\n",
              "      background-color: #3B4455;\n",
              "      fill: #D2E3FC;\n",
              "    }\n",
              "\n",
              "    [theme=dark] .colab-df-convert:hover {\n",
              "      background-color: #434B5C;\n",
              "      box-shadow: 0px 1px 3px 1px rgba(0, 0, 0, 0.15);\n",
              "      filter: drop-shadow(0px 1px 2px rgba(0, 0, 0, 0.3));\n",
              "      fill: #FFFFFF;\n",
              "    }\n",
              "  </style>\n",
              "\n",
              "      <script>\n",
              "        const buttonEl =\n",
              "          document.querySelector('#df-bfedac19-cbaa-41ca-88ee-8c026b73611e button.colab-df-convert');\n",
              "        buttonEl.style.display =\n",
              "          google.colab.kernel.accessAllowed ? 'block' : 'none';\n",
              "\n",
              "        async function convertToInteractive(key) {\n",
              "          const element = document.querySelector('#df-bfedac19-cbaa-41ca-88ee-8c026b73611e');\n",
              "          const dataTable =\n",
              "            await google.colab.kernel.invokeFunction('convertToInteractive',\n",
              "                                                     [key], {});\n",
              "          if (!dataTable) return;\n",
              "\n",
              "          const docLinkHtml = 'Like what you see? Visit the ' +\n",
              "            '<a target=\"_blank\" href=https://colab.research.google.com/notebooks/data_table.ipynb>data table notebook</a>'\n",
              "            + ' to learn more about interactive tables.';\n",
              "          element.innerHTML = '';\n",
              "          dataTable['output_type'] = 'display_data';\n",
              "          await google.colab.output.renderOutput(dataTable, element);\n",
              "          const docLink = document.createElement('div');\n",
              "          docLink.innerHTML = docLinkHtml;\n",
              "          element.appendChild(docLink);\n",
              "        }\n",
              "      </script>\n",
              "    </div>\n",
              "  </div>\n",
              "  "
            ]
          },
          "metadata": {},
          "execution_count": 64
        }
      ]
    },
    {
      "cell_type": "code",
      "source": [
        "# Visualisasi rata-rata pertumbuhan UMR keseluruhan per tahun\n",
        "fig = px.line(df_reg, x='YEAR', y=\"growth\", \n",
        "  labels={\n",
        "      \"YEAR\": \"Tahun\",\n",
        "      \"growth\": \"Pertumbuhan(Rupiah)\",\n",
        "      },\n",
        " title=\"Pertumbuhan UMR %s tiap tahunnya\" %reg, markers=True)\n",
        "fig.update_xaxes(type='category')\n",
        "fig.show(\"png\")"
      ],
      "metadata": {
        "id": "Yzhf5hrhiZw4",
        "colab": {
          "base_uri": "https://localhost:8080/",
          "height": 517
        },
        "outputId": "9dcf902a-dc03-4f0b-e0a4-e8e33c46472c"
      },
      "execution_count": 65,
      "outputs": [
        {
          "output_type": "display_data",
          "data": {
            "image/png": "[encoded data removed]"
          },
          "metadata": {}
        }
      ]
    },
    {
      "cell_type": "markdown",
      "source": [
        "# **Preprocessing Data**\n"
      ],
      "metadata": {
        "id": "Qh5Fv_8AgR2K"
      }
    },
    {
      "cell_type": "code",
      "source": [
        "# Mencari Jumlah Missing Value pada data_train\n",
        "print(df.isnull().sum())\n",
        "df.shape"
      ],
      "metadata": {
        "id": "P8O7zAuLZjqG",
        "colab": {
          "base_uri": "https://localhost:8080/"
        },
        "outputId": "b5ae3e1c-e4c3-484e-8a18-ed6b3283b359"
      },
      "execution_count": 66,
      "outputs": [
        {
          "output_type": "stream",
          "name": "stdout",
          "text": [
            "REGION    0\n",
            "SALARY    0\n",
            "YEAR      0\n",
            "dtype: int64\n"
          ]
        },
        {
          "output_type": "execute_result",
          "data": {
            "text/plain": [
              "(870, 3)"
            ]
          },
          "metadata": {},
          "execution_count": 66
        }
      ]
    },
    {
      "cell_type": "code",
      "source": [
        "# Import library\n",
        "from sklearn.preprocessing import LabelEncoder\n",
        "\n",
        "encoder = LabelEncoder()\n",
        "df[\"REGION_Cat\"] = encoder.fit_transform(df[\"REGION\"])"
      ],
      "metadata": {
        "id": "UaoayNlraALi"
      },
      "execution_count": 67,
      "outputs": []
    },
    {
      "cell_type": "code",
      "source": [
        "df = df[[\"REGION\", \"REGION_Cat\", \"SALARY\", \"YEAR\"]]"
      ],
      "metadata": {
        "id": "F3GNdcPYeGSd"
      },
      "execution_count": 68,
      "outputs": []
    },
    {
      "cell_type": "code",
      "source": [
        "df.to_csv(index=False)"
      ],
      "metadata": {
        "id": "rLXQdpALeSX9",
        "colab": {
          "base_uri": "https://localhost:8080/",
          "height": 105
        },
        "outputId": "e79e186d-2f55-4848-fd89-748ba420aa32"
      },
      "execution_count": 69,
      "outputs": [
        {
          "output_type": "execute_result",
          "data": {
            "text/plain": [
              "'REGION,REGION_Cat,SALARY,YEAR\\nACEH,0,128000,1997\\nSUMATERA UTARA,34,151000,1997\\nSUMATERA BARAT,32,119000,1997\\nRIAU,26,151500,1997\\nJAMBI,8,119500,1997\\nSUMATERA SELATAN,33,127500,1997\\nBENGKULU,3,127500,1997\\nLAMPUNG,19,126000,1997\\nKEP. RIAU,18,235000,1997\\nDKI JAKARTA,5,172500,1997\\nJAWA BARAT,9,172500,1997\\nJAWA TENGAH,10,113000,1997\\nDI YOGYAKARTA,4,106500,1997\\nJAWA TIMUR,11,132500,1997\\nBALI,1,141500,1997\\nNUSA TENGGARA BARAT,22,108000,1997\\nNUSA TENGGARA TIMUR,23,106000,1997\\nKALIMANTAN BARAT,12,126500,1997\\nKALIMANTAN TENGAH,14,138000,1997\\nKALIMANTAN SELATAN,13,125000,1997\\nKALIMANTAN TIMUR,15,153000,1997\\nSULAWESI UTARA,31,118000,1997\\nSULAWESI TENGAH,29,106500,1997\\nSULAWESI SELATAN,28,112500,1997\\nSULAWESI TENGGARA,30,121000,1997\\nMALUKU,20,136000,1997\\nPAPUA,24,170000,1997\\nINDONESIA,7,135000,1997\\nACEH,0,147000,1998\\nSUMATERA UTARA,34,174000,1998\\nSUMATERA BARAT,32,137000,1998\\nRIAU,26,174000,1998\\nJAMBI,8,137500,1998\\nSUMATERA SELATAN,33,146500,1998\\nBENGKULU,3,146500,1998\\nLAMPUNG,19,145000,1998\\nKEP. BANGKA BELITUNG,17,146500,1998\\nKEP. RIAU,18,174000,1998\\nDKI JAKARTA,5,198500,1998\\nJAWA BARAT,9,176800,1998\\nJAWA TENGAH,10,130000,1998\\nDI YOGYAKARTA,4,122500,1998\\nJAWA TIMUR,11,143000,1998\\nBANTEN,2,176800,1998\\nBALI,1,162500,1998\\nNUSA TENGGARA BARAT,22,124000,1998\\nNUSA TENGGARA TIMUR,23,122500,1998\\nKALIMANTAN BARAT,12,145500,1998\\nKALIMANTAN TENGAH,14,158500,1998\\nKALIMANTAN SELATAN,13,144000,1998\\nKALIMANTAN TIMUR,15,176000,1998\\nSULAWESI UTARA,31,135500,1998\\nSULAWESI TENGAH,29,122500,1998\\nSULAWESI SELATAN,28,129500,1998\\nSULAWESI TENGGARA,30,139000,1998\\nGORONTALO,6,135500,1998\\nMALUKU,20,156500,1998\\nMALUKU UTARA,21,156500,1998\\nPAPUA,24,195500,1998\\nINDONESIA,7,150900,1998\\nACEH,0,171000,1999\\nSUMATERA UTARA,34,210000,1999\\nSUMATERA BARAT,32,160000,1999\\nRIAU,26,218000,1999\\nJAMBI,8,150000,1999\\nSUMATERA SELATAN,33,170000,1999\\nBENGKULU,3,150000,1999\\nLAMPUNG,19,160000,1999\\nKEP. BANGKA BELITUNG,17,170000,1999\\nKEP. RIAU,18,218000,1999\\nDKI JAKARTA,5,231000,1999\\nJAWA BARAT,9,208800,1999\\nJAWA TENGAH,10,153000,1999\\nDI YOGYAKARTA,4,130000,1999\\nJAWA TIMUR,11,170500,1999\\nBANTEN,2,208800,1999\\nBALI,1,187000,1999\\nNUSA TENGGARA BARAT,22,145000,1999\\nNUSA TENGGARA TIMUR,23,143000,1999\\nKALIMANTAN BARAT,12,175000,1999\\nKALIMANTAN TENGAH,14,195000,1999\\nKALIMANTAN SELATAN,13,166000,1999\\nKALIMANTAN TIMUR,15,194000,1999\\nSULAWESI UTARA,31,155000,1999\\nSULAWESI TENGAH,29,150000,1999\\nSULAWESI SELATAN,28,148000,1999\\nSULAWESI TENGGARA,30,160000,1999\\nGORONTALO,6,155000,1999\\nMALUKU,20,180000,1999\\nMALUKU UTARA,21,180000,1999\\nPAPUA,24,225000,1999\\nINDONESIA,7,175400,1999\\nACEH,0,265000,2000\\nSUMATERA UTARA,34,254000,2000\\nSUMATERA BARAT,32,200000,2000\\nRIAU,26,250700,2000\\nJAMBI,8,173000,2000\\nSUMATERA SELATAN,33,190000,2000\\nBENGKULU,3,173000,2000\\nLAMPUNG,19,192000,2000\\nKEP. BANGKA BELITUNG,17,190000,2000\\nKEP. RIAU,18,300000,2000\\nDKI JAKARTA,5,286000,2000\\nJAWA BARAT,9,230000,2000\\nJAWA TENGAH,10,185000,2000\\nDI YOGYAKARTA,4,194500,2000\\nJAWA TIMUR,11,214500,2000\\nBANTEN,2,230000,2000\\nBALI,1,214000,2000\\nNUSA TENGGARA BARAT,22,180000,2000\\nNUSA TENGGARA TIMUR,23,184000,2000\\nKALIMANTAN BARAT,12,228000,2000\\nKALIMANTAN TENGAH,14,285000,2000\\nKALIMANTAN SELATAN,13,200000,2000\\nKALIMANTAN TIMUR,15,233000,2000\\nSULAWESI UTARA,31,186000,2000\\nSULAWESI TENGAH,29,203000,2000\\nSULAWESI SELATAN,28,200000,2000\\nSULAWESI TENGGARA,30,210000,2000\\nGORONTALO,6,186000,2000\\nMALUKU,20,180000,2000\\nMALUKU UTARA,21,180000,2000\\nPAPUA,24,315000,2000\\nINDONESIA,7,216500,2000\\nACEH,0,300000,2001\\nSUMATERA UTARA,34,340500,2001\\nSUMATERA BARAT,32,250000,2001\\nRIAU,26,329000,2001\\nJAMBI,8,245000,2001\\nSUMATERA SELATAN,33,255000,2001\\nBENGKULU,3,240000,2001\\nLAMPUNG,19,240000,2001\\nKEP. BANGKA BELITUNG,17,255000,2001\\nKEP. RIAU,18,421500,2001\\nDKI JAKARTA,5,426300,2001\\nJAWA BARAT,9,245000,2001\\nJAWA TENGAH,10,245000,2001\\nDI YOGYAKARTA,4,237500,2001\\nJAWA TIMUR,11,220000,2001\\nBANTEN,2,245000,2001\\nBALI,1,309800,2001\\nNUSA TENGGARA BARAT,22,240000,2001\\nNUSA TENGGARA TIMUR,23,275000,2001\\nKALIMANTAN BARAT,12,304500,2001\\nKALIMANTAN TENGAH,14,362000,2001\\nKALIMANTAN SELATAN,13,295000,2001\\nKALIMANTAN TIMUR,15,300000,2001\\nSULAWESI UTARA,31,372000,2001\\nSULAWESI TENGAH,29,245000,2001\\nSULAWESI SELATAN,28,300000,2001\\nSULAWESI TENGGARA,30,275000,2001\\nGORONTALO,6,372000,2001\\nMALUKU,20,230000,2001\\nMALUKU UTARA,21,230000,2001\\nPAPUA,24,400000,2001\\nINDONESIA,7,290500,2001\\nACEH,0,330000,2002\\nSUMATERA UTARA,34,464000,2002\\nSUMATERA BARAT,32,385000,2002\\nRIAU,26,394000,2002\\nJAMBI,8,304000,2002\\nSUMATERA SELATAN,33,331500,2002\\nBENGKULU,3,295000,2002\\nLAMPUNG,19,310000,2002\\nKEP. BANGKA BELITUNG,17,345000,2002\\nKEP. RIAU,18,421500,2002\\nDKI JAKARTA,5,591300,2002\\nJAWA BARAT,9,280800,2002\\nJAWA TENGAH,10,314500,2002\\nDI YOGYAKARTA,4,321800,2002\\nJAWA TIMUR,11,245000,2002\\nBANTEN,2,360000,2002\\nBALI,1,341000,2002\\nNUSA TENGGARA BARAT,22,320000,2002\\nNUSA TENGGARA TIMUR,23,330000,2002\\nKALIMANTAN BARAT,12,380000,2002\\nKALIMANTAN TENGAH,14,362000,2002\\nKALIMANTAN SELATAN,13,377500,2002\\nKALIMANTAN TIMUR,15,500000,2002\\nSULAWESI UTARA,31,438000,2002\\nSULAWESI TENGAH,29,350000,2002\\nSULAWESI SELATAN,28,375000,2002\\nSULAWESI TENGGARA,30,325000,2002\\nGORONTALO,6,375000,2002\\nMALUKU,20,285000,2002\\nMALUKU UTARA,21,322000,2002\\nPAPUA,24,530000,2002\\nINDONESIA,7,362700,2002\\nACEH,0,425000,2003\\nSUMATERA UTARA,34,505000,2003\\nSUMATERA BARAT,32,435000,2003\\nRIAU,26,437500,2003\\nJAMBI,8,390000,2003\\nSUMATERA SELATAN,33,403500,2003\\nBENGKULU,3,330000,2003\\nLAMPUNG,19,350000,2003\\nKEP. BANGKA BELITUNG,17,379500,2003\\nKEP. RIAU,18,421500,2003\\nDKI JAKARTA,5,631600,2003\\nJAWA BARAT,9,320000,2003\\nJAWA TENGAH,10,340400,2003\\nDI YOGYAKARTA,4,360000,2003\\nJAWA TIMUR,11,274000,2003\\nBANTEN,2,475000,2003\\nBALI,1,410000,2003\\nNUSA TENGGARA BARAT,22,375000,2003\\nNUSA TENGGARA TIMUR,23,350000,2003\\nKALIMANTAN BARAT,12,400000,2003\\nKALIMANTAN TENGAH,14,425000,2003\\nKALIMANTAN SELATAN,13,425000,2003\\nKALIMANTAN TIMUR,15,540000,2003\\nSULAWESI UTARA,31,495000,2003\\nSULAWESI TENGAH,29,410000,2003\\nSULAWESI SELATAN,28,415000,2003\\nSULAWESI TENGGARA,30,390000,2003\\nGORONTALO,6,410000,2003\\nMALUKU,20,370000,2003\\nMALUKU UTARA,21,370000,2003\\nPAPUA,24,600000,2003\\nINDONESIA,7,414700,2003\\nACEH,0,550000,2004\\nSUMATERA UTARA,34,537000,2004\\nSUMATERA BARAT,32,480000,2004\\nRIAU,26,476900,2004\\nJAMBI,8,425000,2004\\nSUMATERA SELATAN,33,460000,2004\\nBENGKULU,3,363000,2004\\nLAMPUNG,19,377500,2004\\nKEP. BANGKA BELITUNG,17,447900,2004\\nKEP. RIAU,18,421500,2004\\nDKI JAKARTA,5,671600,2004\\nJAWA BARAT,9,366500,2004\\nJAWA TENGAH,10,365000,2004\\nDI YOGYAKARTA,4,365000,2004\\nJAWA TIMUR,11,310000,2004\\nBANTEN,2,515000,2004\\nBALI,1,425000,2004\\nNUSA TENGGARA BARAT,22,412500,2004\\nNUSA TENGGARA TIMUR,23,400000,2004\\nKALIMANTAN BARAT,12,420000,2004\\nKALIMANTAN TENGAH,14,482300,2004\\nKALIMANTAN SELATAN,13,482200,2004\\nKALIMANTAN TIMUR,15,572700,2004\\nSULAWESI UTARA,31,545000,2004\\nSULAWESI TENGAH,29,450000,2004\\nSULAWESI SELATAN,28,455000,2004\\nSULAWESI TENGGARA,30,470000,2004\\nGORONTALO,6,430000,2004\\nMALUKU,20,450000,2004\\nMALUKU UTARA,21,400000,2004\\nPAPUA,24,650000,2004\\nINDONESIA,7,458500,2004\\nACEH,0,620000,2005\\nSUMATERA UTARA,34,600000,2005\\nSUMATERA BARAT,32,540000,2005\\nRIAU,26,551500,2005\\nJAMBI,8,485000,2005\\nSUMATERA SELATAN,33,503700,2005\\nBENGKULU,3,430000,2005\\nLAMPUNG,19,405000,2005\\nKEP. BANGKA BELITUNG,17,560000,2005\\nKEP. RIAU,18,557000,2005\\nDKI JAKARTA,5,711843,2005\\nJAWA BARAT,9,408260,2005\\nJAWA TENGAH,10,390000,2005\\nDI YOGYAKARTA,4,400000,2005\\nJAWA TIMUR,11,340000,2005\\nBANTEN,2,585000,2005\\nBALI,1,447500,2005\\nNUSA TENGGARA BARAT,22,475000,2005\\nNUSA TENGGARA TIMUR,23,450000,2005\\nKALIMANTAN BARAT,12,445200,2005\\nKALIMANTAN TENGAH,14,523698,2005\\nKALIMANTAN SELATAN,13,536300,2005\\nKALIMANTAN TIMUR,15,600000,2005\\nSULAWESI UTARA,31,600000,2005\\nSULAWESI TENGAH,29,490000,2005\\nSULAWESI SELATAN,28,510000,2005\\nSULAWESI TENGGARA,30,498600,2005\\nGORONTALO,6,435000,2005\\nMALUKU,20,500000,2005\\nMALUKU UTARA,21,440000,2005\\nPAPUA,24,700000,2005\\nINDONESIA,7,507697,2005\\nACEH,0,820000,2006\\nSUMATERA UTARA,34,737794,2006\\nSUMATERA BARAT,32,650000,2006\\nRIAU,26,637000,2006\\nJAMBI,8,563000,2006\\nSUMATERA SELATAN,33,604000,2006\\nBENGKULU,3,516000,2006\\nLAMPUNG,19,505000,2006\\nKEP. BANGKA BELITUNG,17,640000,2006\\nKEP. RIAU,18,760000,2006\\nDKI JAKARTA,5,819100,2006\\nJAWA BARAT,9,447654,2006\\nJAWA TENGAH,10,450000,2006\\nDI YOGYAKARTA,4,460000,2006\\nJAWA TIMUR,11,390000,2006\\nBANTEN,2,661613,2006\\nBALI,1,510000,2006\\nNUSA TENGGARA BARAT,22,550000,2006\\nNUSA TENGGARA TIMUR,23,550000,2006\\nKALIMANTAN BARAT,12,512000,2006\\nKALIMANTAN TENGAH,14,634260,2006\\nKALIMANTAN SELATAN,13,629000,2006\\nKALIMANTAN TIMUR,15,701640,2006\\nSULAWESI UTARA,31,713500,2006\\nSULAWESI TENGAH,29,575000,2006\\nSULAWESI SELATAN,28,612000,2006\\nSULAWESI TENGGARA,30,573400,2006\\nGORONTALO,6,527000,2006\\nSULAWESI BARAT,27,612000,2006\\nMALUKU,20,575000,2006\\nMALUKU UTARA,21,528000,2006\\nPAPUA BARAT,25,822500,2006\\nPAPUA,24,822500,2006\\nINDONESIA,7,602702,2006\\nACEH,0,850000,2007\\nSUMATERA UTARA,34,761000,2007\\nSUMATERA BARAT,32,725000,2007\\nRIAU,26,710000,2007\\nJAMBI,8,658000,2007\\nSUMATERA SELATAN,33,662000,2007\\nBENGKULU,3,644838,2007\\nLAMPUNG,19,555000,2007\\nKEP. BANGKA BELITUNG,17,720000,2007\\nKEP. RIAU,18,805000,2007\\nDKI JAKARTA,5,900560,2007\\nJAWA BARAT,9,516840,2007\\nJAWA TENGAH,10,500000,2007\\nDI YOGYAKARTA,4,500000,2007\\nJAWA TIMUR,11,448500,2007\\nBANTEN,2,746500,2007\\nBALI,1,622000,2007\\nNUSA TENGGARA BARAT,22,645000,2007\\nNUSA TENGGARA TIMUR,23,600000,2007\\nKALIMANTAN BARAT,12,560000,2007\\nKALIMANTAN TENGAH,14,665973,2007\\nKALIMANTAN SELATAN,13,745000,2007\\nKALIMANTAN TIMUR,15,766500,2007\\nSULAWESI UTARA,31,750000,2007\\nSULAWESI TENGAH,29,615000,2007\\nSULAWESI SELATAN,28,673200,2007\\nSULAWESI TENGGARA,30,640000,2007\\nGORONTALO,6,560000,2007\\nSULAWESI BARAT,27,691464,2007\\nMALUKU,20,635000,2007\\nMALUKU UTARA,21,660000,2007\\nPAPUA BARAT,25,987000,2007\\nPAPUA,24,987000,2007\\nINDONESIA,7,672480,2007\\nACEH,0,1000000,2008\\nSUMATERA UTARA,34,822205,2008\\nSUMATERA BARAT,32,800000,2008\\nRIAU,26,800000,2008\\nJAMBI,8,724000,2008\\nSUMATERA SELATAN,33,743000,2008\\nBENGKULU,3,690000,2008\\nLAMPUNG,19,617000,2008\\nKEP. BANGKA BELITUNG,17,813000,2008\\nKEP. RIAU,18,833000,2008\\nDKI JAKARTA,5,972604,2008\\nJAWA BARAT,9,568193,2008\\nJAWA TENGAH,10,547000,2008\\nDI YOGYAKARTA,4,586000,2008\\nJAWA TIMUR,11,500000,2008\\nBANTEN,2,837000,2008\\nBALI,1,682650,2008\\nNUSA TENGGARA BARAT,22,730000,2008\\nNUSA TENGGARA TIMUR,23,650000,2008\\nKALIMANTAN BARAT,12,645000,2008\\nKALIMANTAN TENGAH,14,765868,2008\\nKALIMANTAN SELATAN,13,825000,2008\\nKALIMANTAN TIMUR,15,889654,2008\\nSULAWESI UTARA,31,845000,2008\\nSULAWESI TENGAH,29,670000,2008\\nSULAWESI SELATAN,28,740520,2008\\nSULAWESI TENGGARA,30,700000,2008\\nGORONTALO,6,600000,2008\\nSULAWESI BARAT,27,760500,2008\\nMALUKU,20,700000,2008\\nMALUKU UTARA,21,700000,2008\\nPAPUA BARAT,25,1105500,2008\\nPAPUA,24,1105500,2008\\nINDONESIA,7,745709,2008\\nACEH,0,1200000,2009\\nSUMATERA UTARA,34,905000,2009\\nSUMATERA BARAT,32,880000,2009\\nRIAU,26,901600,2009\\nJAMBI,8,800000,2009\\nSUMATERA SELATAN,33,824730,2009\\nBENGKULU,3,735000,2009\\nLAMPUNG,19,691000,2009\\nKEP. BANGKA BELITUNG,17,850000,2009\\nKEP. RIAU,18,892000,2009\\nDKI JAKARTA,5,1069865,2009\\nJAWA BARAT,9,628191,2009\\nJAWA TENGAH,10,575000,2009\\nDI YOGYAKARTA,4,700000,2009\\nJAWA TIMUR,11,570000,2009\\nBANTEN,2,917500,2009\\nBALI,1,760000,2009\\nNUSA TENGGARA BARAT,22,832500,2009\\nNUSA TENGGARA TIMUR,23,725000,2009\\nKALIMANTAN BARAT,12,705000,2009\\nKALIMANTAN TENGAH,14,873089,2009\\nKALIMANTAN SELATAN,13,930000,2009\\nKALIMANTAN TIMUR,15,955000,2009\\nSULAWESI UTARA,31,929500,2009\\nSULAWESI TENGAH,29,720000,2009\\nSULAWESI SELATAN,28,905000,2009\\nSULAWESI TENGGARA,30,770000,2009\\nGORONTALO,6,675000,2009\\nSULAWESI BARAT,27,909400,2009\\nMALUKU,20,775000,2009\\nMALUKU UTARA,21,770000,2009\\nPAPUA BARAT,25,1180000,2009\\nPAPUA,24,1216100,2009\\nINDONESIA,7,841530,2009\\nACEH,0,1300000,2010\\nSUMATERA UTARA,34,965000,2010\\nSUMATERA BARAT,32,940000,2010\\nRIAU,26,1016000,2010\\nJAMBI,8,900000,2010\\nSUMATERA SELATAN,33,927825,2010\\nBENGKULU,3,780000,2010\\nLAMPUNG,19,767500,2010\\nKEP. BANGKA BELITUNG,17,910000,2010\\nKEP. RIAU,18,925000,2010\\nDKI JAKARTA,5,1118009,2010\\nJAWA BARAT,9,671500,2010\\nJAWA TENGAH,10,660000,2010\\nDI YOGYAKARTA,4,745694,2010\\nJAWA TIMUR,11,630000,2010\\nBANTEN,2,955300,2010\\nBALI,1,829316,2010\\nNUSA TENGGARA BARAT,22,890775,2010\\nNUSA TENGGARA TIMUR,23,800000,2010\\nKALIMANTAN BARAT,12,741000,2010\\nKALIMANTAN TENGAH,14,986590,2010\\nKALIMANTAN SELATAN,13,1024500,2010\\nKALIMANTAN TIMUR,15,1002000,2010\\nSULAWESI UTARA,31,1000000,2010\\nSULAWESI TENGAH,29,777500,2010\\nSULAWESI SELATAN,28,1000000,2010\\nSULAWESI TENGGARA,30,860000,2010\\nGORONTALO,6,710000,2010\\nSULAWESI BARAT,27,944200,2010\\nMALUKU,20,840000,2010\\nMALUKU UTARA,21,847000,2010\\nPAPUA BARAT,25,1210000,2010\\nPAPUA,24,1316500,2010\\nINDONESIA,7,908824,2010\\nACEH,0,1350000,2011\\nSUMATERA UTARA,34,1035500,2011\\nSUMATERA BARAT,32,1055000,2011\\nRIAU,26,1120000,2011\\nJAMBI,8,1028000,2011\\nSUMATERA SELATAN,33,1048440,2011\\nBENGKULU,3,815000,2011\\nLAMPUNG,19,855000,2011\\nKEP. BANGKA BELITUNG,17,1024000,2011\\nKEP. RIAU,18,975000,2011\\nDKI JAKARTA,5,1290000,2011\\nJAWA BARAT,9,732000,2011\\nJAWA TENGAH,10,675000,2011\\nDI YOGYAKARTA,4,808000,2011\\nJAWA TIMUR,11,705000,2011\\nBANTEN,2,1000000,2011\\nBALI,1,890000,2011\\nNUSA TENGGARA BARAT,22,950000,2011\\nNUSA TENGGARA TIMUR,23,850000,2011\\nKALIMANTAN BARAT,12,802500,2011\\nKALIMANTAN TENGAH,14,1134580,2011\\nKALIMANTAN SELATAN,13,1126000,2011\\nKALIMANTAN TIMUR,15,1084000,2011\\nSULAWESI UTARA,31,1050000,2011\\nSULAWESI TENGAH,29,827500,2011\\nSULAWESI SELATAN,28,1100000,2011\\nSULAWESI TENGGARA,30,930000,2011\\nGORONTALO,6,762500,2011\\nSULAWESI BARAT,27,1006000,2011\\nMALUKU,20,900000,2011\\nMALUKU UTARA,21,889350,2011\\nPAPUA BARAT,25,1410000,2011\\nPAPUA,24,1403000,2011\\nINDONESIA,7,988829,2011\\nACEH,0,1400000,2012\\nSUMATERA UTARA,34,1200000,2012\\nSUMATERA BARAT,32,1150000,2012\\nRIAU,26,1238000,2012\\nJAMBI,8,1142500,2012\\nSUMATERA SELATAN,33,1195220,2012\\nBENGKULU,3,930000,2012\\nLAMPUNG,19,975000,2012\\nKEP. BANGKA BELITUNG,17,1110000,2012\\nKEP. RIAU,18,1015000,2012\\nDKI JAKARTA,5,1529150,2012\\nJAWA BARAT,9,780000,2012\\nJAWA TENGAH,10,765000,2012\\nDI YOGYAKARTA,4,892660,2012\\nJAWA TIMUR,11,745000,2012\\nBANTEN,2,1042000,2012\\nBALI,1,967500,2012\\nNUSA TENGGARA BARAT,22,1000000,2012\\nNUSA TENGGARA TIMUR,23,925000,2012\\nKALIMANTAN BARAT,12,900000,2012\\nKALIMANTAN TENGAH,14,1327459,2012\\nKALIMANTAN SELATAN,13,1225000,2012\\nKALIMANTAN TIMUR,15,1177000,2012\\nSULAWESI UTARA,31,1250000,2012\\nSULAWESI TENGAH,29,885000,2012\\nSULAWESI SELATAN,28,1200000,2012\\nSULAWESI TENGGARA,30,1032300,2012\\nGORONTALO,6,837500,2012\\nSULAWESI BARAT,27,1127000,2012\\nMALUKU,20,975000,2012\\nMALUKU UTARA,21,960498,2012\\nPAPUA BARAT,25,1450000,2012\\nPAPUA,24,1585000,2012\\nINDONESIA,7,1088903,2012\\nACEH,0,1550000,2013\\nSUMATERA UTARA,34,1375000,2013\\nSUMATERA BARAT,32,1350000,2013\\nRIAU,26,1400000,2013\\nJAMBI,8,1300000,2013\\nSUMATERA SELATAN,33,1630000,2013\\nBENGKULU,3,1200000,2013\\nLAMPUNG,19,1150000,2013\\nKEP. BANGKA BELITUNG,17,1265000,2013\\nKEP. RIAU,18,1365087,2013\\nDKI JAKARTA,5,2200000,2013\\nJAWA BARAT,9,850000,2013\\nJAWA TENGAH,10,830000,2013\\nDI YOGYAKARTA,4,947114,2013\\nJAWA TIMUR,11,866250,2013\\nBANTEN,2,1170000,2013\\nBALI,1,1181000,2013\\nNUSA TENGGARA BARAT,22,1100000,2013\\nNUSA TENGGARA TIMUR,23,1010000,2013\\nKALIMANTAN BARAT,12,1060000,2013\\nKALIMANTAN TENGAH,14,1553127,2013\\nKALIMANTAN SELATAN,13,1337500,2013\\nKALIMANTAN TIMUR,15,1752073,2013\\nSULAWESI UTARA,31,1550000,2013\\nSULAWESI TENGAH,29,995000,2013\\nSULAWESI SELATAN,28,1440000,2013\\nSULAWESI TENGGARA,30,1125207,2013\\nGORONTALO,6,1175000,2013\\nSULAWESI BARAT,27,1165000,2013\\nMALUKU,20,1275000,2013\\nMALUKU UTARA,21,1200622,2013\\nPAPUA BARAT,25,1720000,2013\\nPAPUA,24,1710000,2013\\nINDONESIA,7,1296908,2013\\nACEH,0,1750000,2014\\nSUMATERA UTARA,34,1505850,2014\\nSUMATERA BARAT,32,1490000,2014\\nRIAU,26,1700000,2014\\nJAMBI,8,1502300,2014\\nSUMATERA SELATAN,33,1825000,2014\\nBENGKULU,3,1350000,2014\\nLAMPUNG,19,1399037,2014\\nKEP. BANGKA BELITUNG,17,1640000,2014\\nKEP. RIAU,18,1665000,2014\\nDKI JAKARTA,5,2441000,2014\\nJAWA BARAT,9,1000000,2014\\nJAWA TENGAH,10,910000,2014\\nDI YOGYAKARTA,4,988500,2014\\nJAWA TIMUR,11,1000000,2014\\nBANTEN,2,1325000,2014\\nBALI,1,1542600,2014\\nNUSA TENGGARA BARAT,22,1210000,2014\\nNUSA TENGGARA TIMUR,23,1150000,2014\\nKALIMANTAN BARAT,12,1380000,2014\\nKALIMANTAN TENGAH,14,1723970,2014\\nKALIMANTAN SELATAN,13,1620000,2014\\nKALIMANTAN TIMUR,15,1886315,2014\\nSULAWESI UTARA,31,1900000,2014\\nSULAWESI TENGAH,29,1250000,2014\\nSULAWESI SELATAN,28,1800000,2014\\nSULAWESI TENGGARA,30,1400000,2014\\nGORONTALO,6,1325000,2014\\nSULAWESI BARAT,27,1400000,2014\\nMALUKU,20,1415000,2014\\nMALUKU UTARA,21,1440746,2014\\nPAPUA BARAT,25,1870000,2014\\nPAPUA,24,2040000,2014\\nINDONESIA,7,1584391,2014\\nACEH,0,1900000,2015\\nSUMATERA UTARA,34,1625000,2015\\nSUMATERA BARAT,32,1615000,2015\\nRIAU,26,1878000,2015\\nJAMBI,8,1710000,2015\\nSUMATERA SELATAN,33,1974346,2015\\nBENGKULU,3,1500000,2015\\nLAMPUNG,19,1581000,2015\\nKEP. BANGKA BELITUNG,17,2100000,2015\\nKEP. RIAU,18,1954000,2015\\nDKI JAKARTA,5,2700000,2015\\nJAWA BARAT,9,1000000,2015\\nJAWA TENGAH,10,910000,2015\\nDI YOGYAKARTA,4,988500,2015\\nJAWA TIMUR,11,1000000,2015\\nBANTEN,2,1600000,2015\\nBALI,1,1621172,2015\\nNUSA TENGGARA BARAT,22,1330000,2015\\nNUSA TENGGARA TIMUR,23,1250000,2015\\nKALIMANTAN BARAT,12,1560000,2015\\nKALIMANTAN TENGAH,14,1896367,2015\\nKALIMANTAN SELATAN,13,1870000,2015\\nKALIMANTAN TIMUR,15,2026126,2015\\nKALIMANTAN UTARA,16,2026126,2015\\nSULAWESI UTARA,31,2150000,2015\\nSULAWESI TENGAH,29,1500000,2015\\nSULAWESI SELATAN,28,2000000,2015\\nSULAWESI TENGGARA,30,1652000,2015\\nGORONTALO,6,1600000,2015\\nSULAWESI BARAT,27,1655500,2015\\nMALUKU,20,1650000,2015\\nMALUKU UTARA,21,1577617,2015\\nPAPUA BARAT,25,2015000,2015\\nPAPUA,24,2193000,2015\\nINDONESIA,7,1790342,2015\\nACEH,0,2118500,2016\\nSUMATERA UTARA,34,1811875,2016\\nSUMATERA BARAT,32,1800725,2016\\nRIAU,26,2095000,2016\\nJAMBI,8,1906650,2016\\nSUMATERA SELATAN,33,2206000,2016\\nBENGKULU,3,1605000,2016\\nLAMPUNG,19,1763000,2016\\nKEP. BANGKA BELITUNG,17,2341500,2016\\nKEP. RIAU,18,2178710,2016\\nDKI JAKARTA,5,3100000,2016\\nJAWA BARAT,9,2250000,2016\\nJAWA TENGAH,10,910000,2016\\nDI YOGYAKARTA,4,988500,2016\\nJAWA TIMUR,11,1000000,2016\\nBANTEN,2,1784000,2016\\nBALI,1,1807600,2016\\nNUSA TENGGARA BARAT,22,1482950,2016\\nNUSA TENGGARA TIMUR,23,1425000,2016\\nKALIMANTAN BARAT,12,1739400,2016\\nKALIMANTAN TENGAH,14,2057558,2016\\nKALIMANTAN SELATAN,13,2085050,2016\\nKALIMANTAN TIMUR,15,2161253,2016\\nKALIMANTAN UTARA,16,2175340,2016\\nSULAWESI UTARA,31,2400000,2016\\nSULAWESI TENGAH,29,1670000,2016\\nSULAWESI SELATAN,28,2250000,2016\\nSULAWESI TENGGARA,30,1850000,2016\\nGORONTALO,6,1875000,2016\\nSULAWESI BARAT,27,1864000,2016\\nMALUKU,20,1775000,2016\\nMALUKU UTARA,21,1681266,2016\\nPAPUA BARAT,25,2237000,2016\\nPAPUA,24,2435000,2016\\nINDONESIA,7,1997819,2016\\nACEH,0,2500000,2017\\nSUMATERA UTARA,34,1961354,2017\\nSUMATERA BARAT,32,1949284,2017\\nRIAU,26,2266722,2017\\nJAMBI,8,2063000,2017\\nSUMATERA SELATAN,33,2388000,2017\\nBENGKULU,3,1730000,2017\\nLAMPUNG,19,1908447,2017\\nKEP. BANGKA BELITUNG,17,2534673,2017\\nKEP. RIAU,18,2358454,2017\\nDKI JAKARTA,5,3355750,2017\\nJAWA BARAT,9,1420624,2017\\nJAWA TENGAH,10,1367000,2017\\nDI YOGYAKARTA,4,1337645,2017\\nJAWA TIMUR,11,1388000,2017\\nBANTEN,2,1931180,2017\\nBALI,1,1956727,2017\\nNUSA TENGGARA BARAT,22,1631245,2017\\nNUSA TENGGARA TIMUR,23,1650000,2017\\nKALIMANTAN BARAT,12,1882900,2017\\nKALIMANTAN TENGAH,14,2222986,2017\\nKALIMANTAN SELATAN,13,2258000,2017\\nKALIMANTAN TIMUR,15,339556,2017\\nKALIMANTAN UTARA,16,2358800,2017\\nSULAWESI UTARA,31,2598000,2017\\nSULAWESI TENGAH,29,1807775,2017\\nSULAWESI SELATAN,28,2500000,2017\\nSULAWESI TENGGARA,30,2002625,2017\\nGORONTALO,6,2030000,2017\\nSULAWESI BARAT,27,2017780,2017\\nMALUKU,20,1925000,2017\\nMALUKU UTARA,21,1975000,2017\\nPAPUA BARAT,25,2416855,2017\\nPAPUA,24,2663646,2017\\nINDONESIA,7,2020500,2017\\nACEH,0,2700000,2018\\nSUMATERA UTARA,34,2132189,2018\\nSUMATERA BARAT,32,2119067,2018\\nRIAU,26,2464154,2018\\nJAMBI,8,2243719,2018\\nSUMATERA SELATAN,33,2595995,2018\\nBENGKULU,3,1888741,2018\\nLAMPUNG,19,2074673,2018\\nKEP. BANGKA BELITUNG,17,2755444,2018\\nKEP. RIAU,18,2563875,2018\\nDKI JAKARTA,5,3648036,2018\\nJAWA BARAT,9,1544361,2018\\nJAWA TENGAH,10,1486065,2018\\nDI YOGYAKARTA,4,1454154,2018\\nJAWA TIMUR,11,1508895,2018\\nBANTEN,2,2099385,2018\\nBALI,1,2127157,2018\\nNUSA TENGGARA BARAT,22,1825000,2018\\nNUSA TENGGARA TIMUR,23,1660000,2018\\nKALIMANTAN BARAT,12,2046900,2018\\nKALIMANTAN TENGAH,14,2421305,2018\\nKALIMANTAN SELATAN,13,2454671,2018\\nKALIMANTAN TIMUR,15,2543332,2018\\nKALIMANTAN UTARA,16,2559903,2018\\nSULAWESI UTARA,31,2824286,2018\\nSULAWESI TENGAH,29,1965232,2018\\nSULAWESI SELATAN,28,2647767,2018\\nSULAWESI TENGGARA,30,2177052,2018\\nGORONTALO,6,2206813,2018\\nSULAWESI BARAT,27,2193530,2018\\nMALUKU,20,2222220,2018\\nMALUKU UTARA,21,2320803,2018\\nPAPUA BARAT,25,2667000,2018\\nPAPUA,24,3000000,2018\\nINDONESIA,7,2268874,2018\\nACEH,0,2916810,2019\\nSUMATERA UTARA,34,2303403,2019\\nSUMATERA BARAT,32,2289220,2019\\nRIAU,26,2662026,2019\\nJAMBI,8,2423889,2019\\nSUMATERA SELATAN,33,2804453,2019\\nBENGKULU,3,2040407,2019\\nLAMPUNG,19,2241270,2019\\nKEP. BANGKA BELITUNG,17,2976706,2019\\nKEP. RIAU,18,2769754,2019\\nDKI JAKARTA,5,3940973,2019\\nJAWA BARAT,9,1668373,2019\\nJAWA TENGAH,10,1605396,2019\\nDI YOGYAKARTA,4,1570923,2019\\nJAWA TIMUR,11,1630059,2019\\nBANTEN,2,2267990,2019\\nBALI,1,2297969,2019\\nNUSA TENGGARA BARAT,22,2012610,2019\\nNUSA TENGGARA TIMUR,23,1795000,2019\\nKALIMANTAN BARAT,12,2211500,2019\\nKALIMANTAN TENGAH,14,2663435,2019\\nKALIMANTAN SELATAN,13,2651782,2019\\nKALIMANTAN TIMUR,15,2747561,2019\\nKALIMANTAN UTARA,16,2765463,2019\\nSULAWESI UTARA,31,3051076,2019\\nSULAWESI TENGAH,29,2123040,2019\\nSULAWESI SELATAN,28,2860382,2019\\nSULAWESI TENGGARA,30,2351870,2019\\nGORONTALO,6,2384020,2019\\nSULAWESI BARAT,27,2381000,2019\\nMALUKU,20,2400664,2019\\nMALUKU UTARA,21,2508091,2019\\nPAPUA BARAT,25,2934500,2019\\nPAPUA,24,3240900,2019\\nINDONESIA,7,2455662,2019\\nACEH,0,3165031,2020\\nSUMATERA UTARA,34,2499423,2020\\nSUMATERA BARAT,32,2484041,2020\\nRIAU,26,2888564,2020\\nJAMBI,8,2630162,2020\\nSUMATERA SELATAN,33,3043111,2020\\nBENGKULU,3,2213604,2020\\nLAMPUNG,19,2432002,2020\\nKEP. BANGKA BELITUNG,17,3230024,2020\\nKEP. RIAU,18,3005460,2020\\nDKI JAKARTA,5,4276350,2020\\nJAWA BARAT,9,1810351,2020\\nJAWA TENGAH,10,1742015,2020\\nDI YOGYAKARTA,4,1704608,2020\\nJAWA TIMUR,11,1768777,2020\\nBANTEN,2,2460997,2020\\nBALI,1,2494000,2020\\nNUSA TENGGARA BARAT,22,2183883,2020\\nNUSA TENGGARA TIMUR,23,1950000,2020\\nKALIMANTAN BARAT,12,2399699,2020\\nKALIMANTAN TENGAH,14,2903145,2020\\nKALIMANTAN SELATAN,13,2877449,2020\\nKALIMANTAN TIMUR,15,2981379,2020\\nKALIMANTAN UTARA,16,3000804,2020\\nSULAWESI UTARA,31,3310723,2020\\nSULAWESI TENGAH,29,2303711,2020\\nSULAWESI SELATAN,28,3103800,2020\\nSULAWESI TENGGARA,30,2552015,2020\\nGORONTALO,6,2788826,2020\\nSULAWESI BARAT,27,2678863,2020\\nMALUKU,20,2604961,2020\\nMALUKU UTARA,21,2721530,2020\\nPAPUA BARAT,25,3134600,2020\\nPAPUA,24,3516700,2020\\nINDONESIA,7,2672371,2020\\nACEH,0,3165031,2021\\nSUMATERA UTARA,34,2499423,2021\\nSUMATERA BARAT,32,2484041,2021\\nRIAU,26,3005460,2021\\nJAMBI,8,3230023,2021\\nSUMATERA SELATAN,33,3043111,2021\\nBENGKULU,3,2888564,2021\\nLAMPUNG,19,2432001,2021\\nKEP. BANGKA BELITUNG,17,2215000,2021\\nKEP. RIAU,18,2630162,2021\\nDKI JAKARTA,5,4416186,2021\\nJAWA BARAT,9,1810351,2021\\nJAWA TENGAH,10,1798979,2021\\nDI YOGYAKARTA,4,1765000,2021\\nJAWA TIMUR,11,1868777,2021\\nBANTEN,2,2460996,2021\\nBALI,1,2494000,2021\\nNUSA TENGGARA BARAT,22,2183883,2021\\nNUSA TENGGARA TIMUR,23,1950000,2021\\nKALIMANTAN BARAT,12,2399698,2021\\nKALIMANTAN TENGAH,14,2903144,2021\\nKALIMANTAN SELATAN,13,2877448,2021\\nKALIMANTAN TIMUR,15,2981378,2021\\nKALIMANTAN UTARA,16,3000804,2021\\nSULAWESI UTARA,31,3310723,2021\\nSULAWESI TENGAH,29,2552014,2021\\nSULAWESI SELATAN,28,3165876,2021\\nSULAWESI TENGGARA,30,2303711,2021\\nGORONTALO,6,2788826,2021\\nSULAWESI BARAT,27,2678863,2021\\nMALUKU,20,2721530,2021\\nMALUKU UTARA,21,2604961,2021\\nPAPUA BARAT,25,3134600,2021\\nPAPUA,24,3516700,2021\\nINDONESIA,7,2608093,2021\\nACEH,0,3166460,2022\\nSUMATERA UTARA,34,2522609,2022\\nSUMATERA BARAT,32,2512539,2022\\nRIAU,26,2938564,2022\\nJAMBI,8,2649034,2022\\nSUMATERA SELATAN,33,3144446,2022\\nBENGKULU,3,2238094,2022\\nLAMPUNG,19,2440486,2022\\nKEP. BANGKA BELITUNG,17,3264881,2022\\nKEP. RIAU,18,3050172,2022\\nDKI JAKARTA,5,4452724,2022\\nJAWA BARAT,9,1841487,2022\\nJAWA TENGAH,10,1813011,2022\\nDI YOGYAKARTA,4,1840951,2022\\nJAWA TIMUR,11,1891567,2022\\nBANTEN,2,2501203,2022\\nBALI,1,2516971,2022\\nNUSA TENGGARA BARAT,22,2207212,2022\\nNUSA TENGGARA TIMUR,23,1975000,2022\\nKALIMANTAN BARAT,12,2434328,2022\\nKALIMANTAN TENGAH,14,2922516,2022\\nKALIMANTAN SELATAN,13,2906473,2022\\nKALIMANTAN TIMUR,15,3014497,2022\\nKALIMANTAN UTARA,16,3016738,2022\\nSULAWESI UTARA,31,3310723,2022\\nSULAWESI TENGAH,29,2390739,2022\\nSULAWESI SELATAN,28,3165876,2022\\nSULAWESI TENGGARA,30,2710595,2022\\nGORONTALO,6,2800580,2022\\nSULAWESI BARAT,27,2678863,2022\\nMALUKU,20,2619312,2022\\nMALUKU UTARA,21,2862231,2022\\nPAPUA BARAT,25,3200000,2022\\nPAPUA,24,3561932,2022\\nINDONESIA,7,2644709,2022\\n'"
            ],
            "application/vnd.google.colaboratory.intrinsic+json": {
              "type": "string"
            }
          },
          "metadata": {},
          "execution_count": 69
        }
      ]
    },
    {
      "cell_type": "code",
      "source": [
        "encoder.classes_"
      ],
      "metadata": {
        "id": "lvg93oGPaJA2",
        "colab": {
          "base_uri": "https://localhost:8080/"
        },
        "outputId": "0b53dbbb-5cdc-4775-c6d5-b70a11bcd4a5"
      },
      "execution_count": 70,
      "outputs": [
        {
          "output_type": "execute_result",
          "data": {
            "text/plain": [
              "array(['ACEH', 'BALI', 'BANTEN', 'BENGKULU', 'DI YOGYAKARTA',\n",
              "       'DKI JAKARTA', 'GORONTALO', 'INDONESIA', 'JAMBI', 'JAWA BARAT',\n",
              "       'JAWA TENGAH', 'JAWA TIMUR', 'KALIMANTAN BARAT',\n",
              "       'KALIMANTAN SELATAN', 'KALIMANTAN TENGAH', 'KALIMANTAN TIMUR',\n",
              "       'KALIMANTAN UTARA', 'KEP. BANGKA BELITUNG', 'KEP. RIAU', 'LAMPUNG',\n",
              "       'MALUKU', 'MALUKU UTARA', 'NUSA TENGGARA BARAT',\n",
              "       'NUSA TENGGARA TIMUR', 'PAPUA', 'PAPUA BARAT', 'RIAU',\n",
              "       'SULAWESI BARAT', 'SULAWESI SELATAN', 'SULAWESI TENGAH',\n",
              "       'SULAWESI TENGGARA', 'SULAWESI UTARA', 'SUMATERA BARAT',\n",
              "       'SUMATERA SELATAN', 'SUMATERA UTARA'], dtype=object)"
            ]
          },
          "metadata": {},
          "execution_count": 70
        }
      ]
    },
    {
      "cell_type": "markdown",
      "source": [
        "# **Modeling**\n",
        "\n"
      ],
      "metadata": {
        "id": "rNKHkTkqJMXC"
      }
    },
    {
      "cell_type": "markdown",
      "source": [
        "## 1. Linear Regression"
      ],
      "metadata": {
        "id": "99yvny7Ykyl-"
      }
    },
    {
      "cell_type": "code",
      "source": [
        "# Buat Model yang pake Linear Regression\n",
        "from sklearn.linear_model import LinearRegression\n",
        "from sklearn.model_selection import train_test_split\n",
        "\n",
        "#Split data train dan test\n",
        "X = df.drop(['SALARY','REGION'], axis = 1)\n",
        "y = df['SALARY']\n",
        "X_train_lr, X_test_lr, y_train_lr, y_test_lr = train_test_split(X, y, test_size=0.2, random_state=4)\n",
        "\n",
        "#Fit dengan Model Linear Regression\n",
        "lin_reg = LinearRegression()\n",
        "model_lr = lin_reg.fit(X_train_lr, y_train_lr)\n",
        "\n",
        "print(lin_reg.coef_)\n",
        "print(lin_reg.intercept_)"
      ],
      "metadata": {
        "id": "d-59w6sKlPjT",
        "colab": {
          "base_uri": "https://localhost:8080/"
        },
        "outputId": "22a00604-bedb-4ab2-90e4-c38ad8db5df9"
      },
      "execution_count": 71,
      "outputs": [
        {
          "output_type": "stream",
          "name": "stdout",
          "text": [
            "[  4030.83723014 112142.47478521]\n",
            "-224272536.84800836\n"
          ]
        }
      ]
    },
    {
      "cell_type": "code",
      "source": [
        "df"
      ],
      "metadata": {
        "id": "6U0qZyQXoj9Q",
        "colab": {
          "base_uri": "https://localhost:8080/",
          "height": 424
        },
        "outputId": "ac287381-9513-4e0a-c83d-15b8490bdd58"
      },
      "execution_count": 72,
      "outputs": [
        {
          "output_type": "execute_result",
          "data": {
            "text/plain": [
              "             REGION  REGION_Cat   SALARY  YEAR\n",
              "0              ACEH           0   128000  1997\n",
              "1    SUMATERA UTARA          34   151000  1997\n",
              "2    SUMATERA BARAT          32   119000  1997\n",
              "3              RIAU          26   151500  1997\n",
              "4             JAMBI           8   119500  1997\n",
              "..              ...         ...      ...   ...\n",
              "865          MALUKU          20  2619312  2022\n",
              "866    MALUKU UTARA          21  2862231  2022\n",
              "867     PAPUA BARAT          25  3200000  2022\n",
              "868           PAPUA          24  3561932  2022\n",
              "869       INDONESIA           7  2644709  2022\n",
              "\n",
              "[870 rows x 4 columns]"
            ],
            "text/html": [
              "\n",
              "  <div id=\"df-398b2e9f-ca7e-43cf-8f1e-50675ead9b3d\">\n",
              "    <div class=\"colab-df-container\">\n",
              "      <div>\n",
              "<style scoped>\n",
              "    .dataframe tbody tr th:only-of-type {\n",
              "        vertical-align: middle;\n",
              "    }\n",
              "\n",
              "    .dataframe tbody tr th {\n",
              "        vertical-align: top;\n",
              "    }\n",
              "\n",
              "    .dataframe thead th {\n",
              "        text-align: right;\n",
              "    }\n",
              "</style>\n",
              "<table border=\"1\" class=\"dataframe\">\n",
              "  <thead>\n",
              "    <tr style=\"text-align: right;\">\n",
              "      <th></th>\n",
              "      <th>REGION</th>\n",
              "      <th>REGION_Cat</th>\n",
              "      <th>SALARY</th>\n",
              "      <th>YEAR</th>\n",
              "    </tr>\n",
              "  </thead>\n",
              "  <tbody>\n",
              "    <tr>\n",
              "      <th>0</th>\n",
              "      <td>ACEH</td>\n",
              "      <td>0</td>\n",
              "      <td>128000</td>\n",
              "      <td>1997</td>\n",
              "    </tr>\n",
              "    <tr>\n",
              "      <th>1</th>\n",
              "      <td>SUMATERA UTARA</td>\n",
              "      <td>34</td>\n",
              "      <td>151000</td>\n",
              "      <td>1997</td>\n",
              "    </tr>\n",
              "    <tr>\n",
              "      <th>2</th>\n",
              "      <td>SUMATERA BARAT</td>\n",
              "      <td>32</td>\n",
              "      <td>119000</td>\n",
              "      <td>1997</td>\n",
              "    </tr>\n",
              "    <tr>\n",
              "      <th>3</th>\n",
              "      <td>RIAU</td>\n",
              "      <td>26</td>\n",
              "      <td>151500</td>\n",
              "      <td>1997</td>\n",
              "    </tr>\n",
              "    <tr>\n",
              "      <th>4</th>\n",
              "      <td>JAMBI</td>\n",
              "      <td>8</td>\n",
              "      <td>119500</td>\n",
              "      <td>1997</td>\n",
              "    </tr>\n",
              "    <tr>\n",
              "      <th>...</th>\n",
              "      <td>...</td>\n",
              "      <td>...</td>\n",
              "      <td>...</td>\n",
              "      <td>...</td>\n",
              "    </tr>\n",
              "    <tr>\n",
              "      <th>865</th>\n",
              "      <td>MALUKU</td>\n",
              "      <td>20</td>\n",
              "      <td>2619312</td>\n",
              "      <td>2022</td>\n",
              "    </tr>\n",
              "    <tr>\n",
              "      <th>866</th>\n",
              "      <td>MALUKU UTARA</td>\n",
              "      <td>21</td>\n",
              "      <td>2862231</td>\n",
              "      <td>2022</td>\n",
              "    </tr>\n",
              "    <tr>\n",
              "      <th>867</th>\n",
              "      <td>PAPUA BARAT</td>\n",
              "      <td>25</td>\n",
              "      <td>3200000</td>\n",
              "      <td>2022</td>\n",
              "    </tr>\n",
              "    <tr>\n",
              "      <th>868</th>\n",
              "      <td>PAPUA</td>\n",
              "      <td>24</td>\n",
              "      <td>3561932</td>\n",
              "      <td>2022</td>\n",
              "    </tr>\n",
              "    <tr>\n",
              "      <th>869</th>\n",
              "      <td>INDONESIA</td>\n",
              "      <td>7</td>\n",
              "      <td>2644709</td>\n",
              "      <td>2022</td>\n",
              "    </tr>\n",
              "  </tbody>\n",
              "</table>\n",
              "<p>870 rows × 4 columns</p>\n",
              "</div>\n",
              "      <button class=\"colab-df-convert\" onclick=\"convertToInteractive('df-398b2e9f-ca7e-43cf-8f1e-50675ead9b3d')\"\n",
              "              title=\"Convert this dataframe to an interactive table.\"\n",
              "              style=\"display:none;\">\n",
              "        \n",
              "  <svg xmlns=\"http://www.w3.org/2000/svg\" height=\"24px\"viewBox=\"0 0 24 24\"\n",
              "       width=\"24px\">\n",
              "    <path d=\"M0 0h24v24H0V0z\" fill=\"none\"/>\n",
              "    <path d=\"M18.56 5.44l.94 2.06.94-2.06 2.06-.94-2.06-.94-.94-2.06-.94 2.06-2.06.94zm-11 1L8.5 8.5l.94-2.06 2.06-.94-2.06-.94L8.5 2.5l-.94 2.06-2.06.94zm10 10l.94 2.06.94-2.06 2.06-.94-2.06-.94-.94-2.06-.94 2.06-2.06.94z\"/><path d=\"M17.41 7.96l-1.37-1.37c-.4-.4-.92-.59-1.43-.59-.52 0-1.04.2-1.43.59L10.3 9.45l-7.72 7.72c-.78.78-.78 2.05 0 2.83L4 21.41c.39.39.9.59 1.41.59.51 0 1.02-.2 1.41-.59l7.78-7.78 2.81-2.81c.8-.78.8-2.07 0-2.86zM5.41 20L4 18.59l7.72-7.72 1.47 1.35L5.41 20z\"/>\n",
              "  </svg>\n",
              "      </button>\n",
              "      \n",
              "  <style>\n",
              "    .colab-df-container {\n",
              "      display:flex;\n",
              "      flex-wrap:wrap;\n",
              "      gap: 12px;\n",
              "    }\n",
              "\n",
              "    .colab-df-convert {\n",
              "      background-color: #E8F0FE;\n",
              "      border: none;\n",
              "      border-radius: 50%;\n",
              "      cursor: pointer;\n",
              "      display: none;\n",
              "      fill: #1967D2;\n",
              "      height: 32px;\n",
              "      padding: 0 0 0 0;\n",
              "      width: 32px;\n",
              "    }\n",
              "\n",
              "    .colab-df-convert:hover {\n",
              "      background-color: #E2EBFA;\n",
              "      box-shadow: 0px 1px 2px rgba(60, 64, 67, 0.3), 0px 1px 3px 1px rgba(60, 64, 67, 0.15);\n",
              "      fill: #174EA6;\n",
              "    }\n",
              "\n",
              "    [theme=dark] .colab-df-convert {\n",
              "      background-color: #3B4455;\n",
              "      fill: #D2E3FC;\n",
              "    }\n",
              "\n",
              "    [theme=dark] .colab-df-convert:hover {\n",
              "      background-color: #434B5C;\n",
              "      box-shadow: 0px 1px 3px 1px rgba(0, 0, 0, 0.15);\n",
              "      filter: drop-shadow(0px 1px 2px rgba(0, 0, 0, 0.3));\n",
              "      fill: #FFFFFF;\n",
              "    }\n",
              "  </style>\n",
              "\n",
              "      <script>\n",
              "        const buttonEl =\n",
              "          document.querySelector('#df-398b2e9f-ca7e-43cf-8f1e-50675ead9b3d button.colab-df-convert');\n",
              "        buttonEl.style.display =\n",
              "          google.colab.kernel.accessAllowed ? 'block' : 'none';\n",
              "\n",
              "        async function convertToInteractive(key) {\n",
              "          const element = document.querySelector('#df-398b2e9f-ca7e-43cf-8f1e-50675ead9b3d');\n",
              "          const dataTable =\n",
              "            await google.colab.kernel.invokeFunction('convertToInteractive',\n",
              "                                                     [key], {});\n",
              "          if (!dataTable) return;\n",
              "\n",
              "          const docLinkHtml = 'Like what you see? Visit the ' +\n",
              "            '<a target=\"_blank\" href=https://colab.research.google.com/notebooks/data_table.ipynb>data table notebook</a>'\n",
              "            + ' to learn more about interactive tables.';\n",
              "          element.innerHTML = '';\n",
              "          dataTable['output_type'] = 'display_data';\n",
              "          await google.colab.output.renderOutput(dataTable, element);\n",
              "          const docLink = document.createElement('div');\n",
              "          docLink.innerHTML = docLinkHtml;\n",
              "          element.appendChild(docLink);\n",
              "        }\n",
              "      </script>\n",
              "    </div>\n",
              "  </div>\n",
              "  "
            ]
          },
          "metadata": {},
          "execution_count": 72
        }
      ]
    },
    {
      "cell_type": "code",
      "source": [
        "#Menyimpan hasil akurasi\n",
        "accuracy_lr = model_lr.score(X_test_lr, y_test_lr)"
      ],
      "metadata": {
        "id": "NzF0PANfhObo"
      },
      "execution_count": 73,
      "outputs": []
    },
    {
      "cell_type": "code",
      "source": [
        "#Melihat hasil accuracy dari model\n",
        "print(f\"Akurasi Model Linear Regression: {accuracy_lr * 100}%\")"
      ],
      "metadata": {
        "id": "hbQajN7OhTVN",
        "colab": {
          "base_uri": "https://localhost:8080/"
        },
        "outputId": "41907591-3a44-44c4-e784-7a755c109ead"
      },
      "execution_count": 74,
      "outputs": [
        {
          "output_type": "stream",
          "name": "stdout",
          "text": [
            "Akurasi Model Linear Regression: 83.33651157054544%\n"
          ]
        }
      ]
    },
    {
      "cell_type": "code",
      "source": [
        "#Simpan dalam joblib untuk deployment\n",
        "joblib.dump((model_lr), \"umr-model-lr.pkl\")"
      ],
      "metadata": {
        "id": "tc7_Gr8f6q1m",
        "colab": {
          "base_uri": "https://localhost:8080/"
        },
        "outputId": "89a307a8-7f2e-419b-9fde-af41ebbff426"
      },
      "execution_count": 75,
      "outputs": [
        {
          "output_type": "execute_result",
          "data": {
            "text/plain": [
              "['umr-model-lr.pkl']"
            ]
          },
          "metadata": {},
          "execution_count": 75
        }
      ]
    },
    {
      "cell_type": "code",
      "source": [
        "# Contoh Hasil Prediksi UMR \"Regional = 1\" di Tahun 2024\n",
        "lin_reg.predict([[1,2024]])"
      ],
      "metadata": {
        "id": "cqegPj7gaviO",
        "colab": {
          "base_uri": "https://localhost:8080/"
        },
        "outputId": "8cb9f61a-efb0-4bb8-a402-f79eb6028f9b"
      },
      "execution_count": 76,
      "outputs": [
        {
          "output_type": "execute_result",
          "data": {
            "text/plain": [
              "array([2707862.95449188])"
            ]
          },
          "metadata": {},
          "execution_count": 76
        }
      ]
    },
    {
      "cell_type": "markdown",
      "source": [
        "## 2. Random Forest"
      ],
      "metadata": {
        "id": "Em-JkONnJSA3"
      }
    },
    {
      "cell_type": "code",
      "source": [
        "#Split data train dan test\n",
        "X = df.drop(['SALARY','REGION'], axis = 1)\n",
        "y = df['SALARY']\n",
        "\n",
        "from sklearn.model_selection import train_test_split\n",
        "X_train_rf, X_test_rf, y_train_rf, y_test_rf = train_test_split(X, y, test_size=0.2, random_state=4)"
      ],
      "metadata": {
        "id": "3JwRCy7BgTVt"
      },
      "execution_count": 77,
      "outputs": []
    },
    {
      "cell_type": "code",
      "source": [
        "X_train_rf.shape\n",
        "y_train_rf.shape"
      ],
      "metadata": {
        "id": "NehLEI9eoNd8",
        "colab": {
          "base_uri": "https://localhost:8080/"
        },
        "outputId": "06d732ab-5b94-4efb-f01c-c2af9d9a8590"
      },
      "execution_count": 78,
      "outputs": [
        {
          "output_type": "execute_result",
          "data": {
            "text/plain": [
              "(696,)"
            ]
          },
          "metadata": {},
          "execution_count": 78
        }
      ]
    },
    {
      "cell_type": "code",
      "source": [
        "#Fit menggunakan model Random Forest\n",
        "from sklearn.ensemble import RandomForestRegressor\n",
        "ran_for = RandomForestRegressor()\n",
        "model_rf = ran_for.fit(X_train_rf, y_train_rf)"
      ],
      "metadata": {
        "id": "Y96MSJqrfnhZ"
      },
      "execution_count": 79,
      "outputs": []
    },
    {
      "cell_type": "code",
      "source": [
        "#Menyimpan hasil akurasi\n",
        "accuracy_rf = model_rf.score(X_test_rf, y_test_rf)"
      ],
      "metadata": {
        "id": "4LIAsb7cf2sH"
      },
      "execution_count": 80,
      "outputs": []
    },
    {
      "cell_type": "code",
      "source": [
        "#Melihat hasil accuracy dari model\n",
        "print(f\"Akurasi Model Random Forest: {accuracy_rf * 100}%\")"
      ],
      "metadata": {
        "id": "qId6MlctlYAE",
        "colab": {
          "base_uri": "https://localhost:8080/"
        },
        "outputId": "c421649e-ee2f-4367-a7fb-91627c9e06b9"
      },
      "execution_count": 81,
      "outputs": [
        {
          "output_type": "stream",
          "name": "stdout",
          "text": [
            "Akurasi Model Random Forest: 96.63505375498946%\n"
          ]
        }
      ]
    },
    {
      "cell_type": "code",
      "source": [
        "#Simpan dalam joblib untuk deployment\n",
        "joblib.dump((model_rf), \"umr-model-rf.pkl\")"
      ],
      "metadata": {
        "id": "ao6mp3hJoos2",
        "colab": {
          "base_uri": "https://localhost:8080/"
        },
        "outputId": "25f41868-fe10-4458-805e-3970071e50b8"
      },
      "execution_count": 82,
      "outputs": [
        {
          "output_type": "execute_result",
          "data": {
            "text/plain": [
              "['umr-model-rf.pkl']"
            ]
          },
          "metadata": {},
          "execution_count": 82
        }
      ]
    },
    {
      "cell_type": "code",
      "source": [
        "# Contoh Hasil Prediksi UMR \"Regional = 1\" di Tahun 2024\n",
        "ran_for.predict([[1,2024]])"
      ],
      "metadata": {
        "id": "Zyywowowo7ux",
        "colab": {
          "base_uri": "https://localhost:8080/"
        },
        "outputId": "b0271daa-deb2-4262-876c-cfd5bd4adbd7"
      },
      "execution_count": 83,
      "outputs": [
        {
          "output_type": "execute_result",
          "data": {
            "text/plain": [
              "array([2534043.13])"
            ]
          },
          "metadata": {},
          "execution_count": 83
        }
      ]
    },
    {
      "cell_type": "markdown",
      "source": [
        "# **Evaluate Model**"
      ],
      "metadata": {
        "id": "Dx6Bg4orgYuD"
      }
    },
    {
      "cell_type": "markdown",
      "source": [
        "## 1. Linear Regression"
      ],
      "metadata": {
        "id": "DwIoyiHmlg5_"
      }
    },
    {
      "cell_type": "markdown",
      "source": [
        "Mengevaluasi performa model Linear Regression yang telah dibuat dengan menggunakan evaluation metrics Coefficient of Determination, MSE (Mean Squared Error) dan RMSE (Root Mean Squared Error)."
      ],
      "metadata": {
        "id": "UhddyZ77CtnP"
      }
    },
    {
      "cell_type": "code",
      "source": [
        "from sklearn.metrics import r2_score\n",
        "from sklearn.metrics import mean_squared_error"
      ],
      "metadata": {
        "id": "ySD6I54wCrT5"
      },
      "execution_count": 84,
      "outputs": []
    },
    {
      "cell_type": "code",
      "source": [
        "# Coefficient of Determination\n",
        "\n",
        "print(type(X_test_lr))\n",
        "\n",
        "y_pred_lr = lin_reg.predict(X_test_lr)\n",
        "r_squared = r2_score(y_test_lr, y_pred_lr)\n",
        "\n",
        "print(f'R-squared: {r_squared * 100}%')"
      ],
      "metadata": {
        "id": "8_PKBE9XHD-i",
        "colab": {
          "base_uri": "https://localhost:8080/"
        },
        "outputId": "2614ba85-1cbb-4882-f6a7-60f5af7720d5"
      },
      "execution_count": 85,
      "outputs": [
        {
          "output_type": "stream",
          "name": "stdout",
          "text": [
            "<class 'pandas.core.frame.DataFrame'>\n",
            "R-squared: 83.33651157054544%\n"
          ]
        }
      ]
    },
    {
      "cell_type": "markdown",
      "source": [
        "*Nilai R-squared akan lebih baik apabila semakin mendekati nilai \"1\""
      ],
      "metadata": {
        "id": "NydWmUJ4LbCT"
      }
    },
    {
      "cell_type": "code",
      "source": [
        "# Mean Squared Error\n",
        "mse_lr = mean_squared_error(y_test_lr, y_pred_lr)\n",
        "print('Mean Squared Error = ', mse_lr)"
      ],
      "metadata": {
        "id": "1bv6hPxxgigC",
        "colab": {
          "base_uri": "https://localhost:8080/"
        },
        "outputId": "b619799b-fae1-4160-cc91-f0fe9510ed0c"
      },
      "execution_count": 86,
      "outputs": [
        {
          "output_type": "stream",
          "name": "stdout",
          "text": [
            "Mean Squared Error =  144684994335.15085\n"
          ]
        }
      ]
    },
    {
      "cell_type": "code",
      "source": [
        "# Root Mean Squared Error\n",
        "rmse_lr = mean_squared_error(y_test_lr, y_pred_lr, squared = False)\n",
        "print('Root Mean Squared Error = ', rmse_lr)"
      ],
      "metadata": {
        "id": "IUWyJLpNCiQw",
        "colab": {
          "base_uri": "https://localhost:8080/"
        },
        "outputId": "344da3eb-d29a-4c77-f044-1e364980a7c7"
      },
      "execution_count": 87,
      "outputs": [
        {
          "output_type": "stream",
          "name": "stdout",
          "text": [
            "Root Mean Squared Error =  380374.8077030744\n"
          ]
        }
      ]
    },
    {
      "cell_type": "markdown",
      "source": [
        "*Nilai RMSE dan MSE lebih baik jika semakin mendekati nilai 0"
      ],
      "metadata": {
        "id": "ogZiaflObj8C"
      }
    },
    {
      "cell_type": "markdown",
      "source": [
        "## 2. Random Forest"
      ],
      "metadata": {
        "id": "6AwzPbE4JJfs"
      }
    },
    {
      "cell_type": "markdown",
      "source": [
        "Mengevaluasi performa model Random Forest yang telah dibuat dengan menggunakan evaluation metrics Coefficient of Determination, MSE (Mean Squared Error) dan RMSE (Root Mean Squared Error)."
      ],
      "metadata": {
        "id": "rnQQNmXJrv5V"
      }
    },
    {
      "cell_type": "code",
      "source": [
        "# Coefficient of Determination\n",
        "\n",
        "y_pred_rf = ran_for.predict(X_test_rf)\n",
        "r_squared = r2_score(y_test_rf, y_pred_rf)\n",
        "\n",
        "print(f'R-squared: {r_squared * 100}%')"
      ],
      "metadata": {
        "id": "nN621W0irCF0",
        "colab": {
          "base_uri": "https://localhost:8080/"
        },
        "outputId": "8f9e282b-4d56-4ca3-fd90-ae43db3e748a"
      },
      "execution_count": 88,
      "outputs": [
        {
          "output_type": "stream",
          "name": "stdout",
          "text": [
            "R-squared: 96.63505375498946%\n"
          ]
        }
      ]
    },
    {
      "cell_type": "markdown",
      "source": [
        "*Nilai R-squared akan lebih baik apabila semakin mendekati nilai \"1\""
      ],
      "metadata": {
        "id": "XqDD2iUybiqu"
      }
    },
    {
      "cell_type": "code",
      "source": [
        "# Mean Squared Error\n",
        "mse_rf = mean_squared_error(y_test_rf, y_pred_rf)\n",
        "print('Mean Squared Error = ', mse_rf)"
      ],
      "metadata": {
        "id": "CRc0Jed3qykw",
        "colab": {
          "base_uri": "https://localhost:8080/"
        },
        "outputId": "e21e2e48-ed3d-4854-916f-e287ecfe3295"
      },
      "execution_count": 89,
      "outputs": [
        {
          "output_type": "stream",
          "name": "stdout",
          "text": [
            "Mean Squared Error =  29217005218.238922\n"
          ]
        }
      ]
    },
    {
      "cell_type": "code",
      "source": [
        "# Root Mean Squared Error\n",
        "rmse_rf = mean_squared_error(y_test_rf, y_pred_rf, squared = False)\n",
        "print('Root Mean Squared Error = ', rmse_rf)"
      ],
      "metadata": {
        "id": "UCuoBsykq1Le",
        "colab": {
          "base_uri": "https://localhost:8080/"
        },
        "outputId": "c10aba1c-3137-426c-c256-8891bb138438"
      },
      "execution_count": 90,
      "outputs": [
        {
          "output_type": "stream",
          "name": "stdout",
          "text": [
            "Root Mean Squared Error =  170929.82542037222\n"
          ]
        }
      ]
    },
    {
      "cell_type": "markdown",
      "source": [
        "*Nilai RMSE dan MSE lebih baik jika semakin mendekati nilai 0"
      ],
      "metadata": {
        "id": "Ri024uH9bqeJ"
      }
    },
    {
      "cell_type": "markdown",
      "source": [
        "# **Deployment**"
      ],
      "metadata": {
        "id": "1ntEbCoHgdRD"
      }
    },
    {
      "cell_type": "code",
      "source": [
        "#@title Masukin Regional yang ingin dilihat\n",
        "reg = \"DKI JAKARTA\" #@param {type:\"string\"}\n",
        "thn = 2028#@param {type:\"integer\"}"
      ],
      "metadata": {
        "id": "zdWjKAujfChs"
      },
      "execution_count": 91,
      "outputs": []
    },
    {
      "cell_type": "code",
      "source": [
        "reg = reg.upper()\n",
        "df_dep = df[df.REGION.str.contains(reg)].reset_index()\n",
        "reg_cat = df_dep._get_value(0, \"REGION_Cat\")\n",
        "df_dep.drop(columns='index')"
      ],
      "metadata": {
        "id": "EZWrFKsYfQ0w",
        "colab": {
          "base_uri": "https://localhost:8080/",
          "height": 865
        },
        "outputId": "8d091b9d-2833-4199-b533-062ec07ffac8"
      },
      "execution_count": 92,
      "outputs": [
        {
          "output_type": "execute_result",
          "data": {
            "text/plain": [
              "         REGION  REGION_Cat   SALARY  YEAR\n",
              "0   DKI JAKARTA           5   172500  1997\n",
              "1   DKI JAKARTA           5   198500  1998\n",
              "2   DKI JAKARTA           5   231000  1999\n",
              "3   DKI JAKARTA           5   286000  2000\n",
              "4   DKI JAKARTA           5   426300  2001\n",
              "5   DKI JAKARTA           5   591300  2002\n",
              "6   DKI JAKARTA           5   631600  2003\n",
              "7   DKI JAKARTA           5   671600  2004\n",
              "8   DKI JAKARTA           5   711843  2005\n",
              "9   DKI JAKARTA           5   819100  2006\n",
              "10  DKI JAKARTA           5   900560  2007\n",
              "11  DKI JAKARTA           5   972604  2008\n",
              "12  DKI JAKARTA           5  1069865  2009\n",
              "13  DKI JAKARTA           5  1118009  2010\n",
              "14  DKI JAKARTA           5  1290000  2011\n",
              "15  DKI JAKARTA           5  1529150  2012\n",
              "16  DKI JAKARTA           5  2200000  2013\n",
              "17  DKI JAKARTA           5  2441000  2014\n",
              "18  DKI JAKARTA           5  2700000  2015\n",
              "19  DKI JAKARTA           5  3100000  2016\n",
              "20  DKI JAKARTA           5  3355750  2017\n",
              "21  DKI JAKARTA           5  3648036  2018\n",
              "22  DKI JAKARTA           5  3940973  2019\n",
              "23  DKI JAKARTA           5  4276350  2020\n",
              "24  DKI JAKARTA           5  4416186  2021\n",
              "25  DKI JAKARTA           5  4452724  2022"
            ],
            "text/html": [
              "\n",
              "  <div id=\"df-0333a8d7-0ea0-4148-8f46-cd4f66d16979\">\n",
              "    <div class=\"colab-df-container\">\n",
              "      <div>\n",
              "<style scoped>\n",
              "    .dataframe tbody tr th:only-of-type {\n",
              "        vertical-align: middle;\n",
              "    }\n",
              "\n",
              "    .dataframe tbody tr th {\n",
              "        vertical-align: top;\n",
              "    }\n",
              "\n",
              "    .dataframe thead th {\n",
              "        text-align: right;\n",
              "    }\n",
              "</style>\n",
              "<table border=\"1\" class=\"dataframe\">\n",
              "  <thead>\n",
              "    <tr style=\"text-align: right;\">\n",
              "      <th></th>\n",
              "      <th>REGION</th>\n",
              "      <th>REGION_Cat</th>\n",
              "      <th>SALARY</th>\n",
              "      <th>YEAR</th>\n",
              "    </tr>\n",
              "  </thead>\n",
              "  <tbody>\n",
              "    <tr>\n",
              "      <th>0</th>\n",
              "      <td>DKI JAKARTA</td>\n",
              "      <td>5</td>\n",
              "      <td>172500</td>\n",
              "      <td>1997</td>\n",
              "    </tr>\n",
              "    <tr>\n",
              "      <th>1</th>\n",
              "      <td>DKI JAKARTA</td>\n",
              "      <td>5</td>\n",
              "      <td>198500</td>\n",
              "      <td>1998</td>\n",
              "    </tr>\n",
              "    <tr>\n",
              "      <th>2</th>\n",
              "      <td>DKI JAKARTA</td>\n",
              "      <td>5</td>\n",
              "      <td>231000</td>\n",
              "      <td>1999</td>\n",
              "    </tr>\n",
              "    <tr>\n",
              "      <th>3</th>\n",
              "      <td>DKI JAKARTA</td>\n",
              "      <td>5</td>\n",
              "      <td>286000</td>\n",
              "      <td>2000</td>\n",
              "    </tr>\n",
              "    <tr>\n",
              "      <th>4</th>\n",
              "      <td>DKI JAKARTA</td>\n",
              "      <td>5</td>\n",
              "      <td>426300</td>\n",
              "      <td>2001</td>\n",
              "    </tr>\n",
              "    <tr>\n",
              "      <th>5</th>\n",
              "      <td>DKI JAKARTA</td>\n",
              "      <td>5</td>\n",
              "      <td>591300</td>\n",
              "      <td>2002</td>\n",
              "    </tr>\n",
              "    <tr>\n",
              "      <th>6</th>\n",
              "      <td>DKI JAKARTA</td>\n",
              "      <td>5</td>\n",
              "      <td>631600</td>\n",
              "      <td>2003</td>\n",
              "    </tr>\n",
              "    <tr>\n",
              "      <th>7</th>\n",
              "      <td>DKI JAKARTA</td>\n",
              "      <td>5</td>\n",
              "      <td>671600</td>\n",
              "      <td>2004</td>\n",
              "    </tr>\n",
              "    <tr>\n",
              "      <th>8</th>\n",
              "      <td>DKI JAKARTA</td>\n",
              "      <td>5</td>\n",
              "      <td>711843</td>\n",
              "      <td>2005</td>\n",
              "    </tr>\n",
              "    <tr>\n",
              "      <th>9</th>\n",
              "      <td>DKI JAKARTA</td>\n",
              "      <td>5</td>\n",
              "      <td>819100</td>\n",
              "      <td>2006</td>\n",
              "    </tr>\n",
              "    <tr>\n",
              "      <th>10</th>\n",
              "      <td>DKI JAKARTA</td>\n",
              "      <td>5</td>\n",
              "      <td>900560</td>\n",
              "      <td>2007</td>\n",
              "    </tr>\n",
              "    <tr>\n",
              "      <th>11</th>\n",
              "      <td>DKI JAKARTA</td>\n",
              "      <td>5</td>\n",
              "      <td>972604</td>\n",
              "      <td>2008</td>\n",
              "    </tr>\n",
              "    <tr>\n",
              "      <th>12</th>\n",
              "      <td>DKI JAKARTA</td>\n",
              "      <td>5</td>\n",
              "      <td>1069865</td>\n",
              "      <td>2009</td>\n",
              "    </tr>\n",
              "    <tr>\n",
              "      <th>13</th>\n",
              "      <td>DKI JAKARTA</td>\n",
              "      <td>5</td>\n",
              "      <td>1118009</td>\n",
              "      <td>2010</td>\n",
              "    </tr>\n",
              "    <tr>\n",
              "      <th>14</th>\n",
              "      <td>DKI JAKARTA</td>\n",
              "      <td>5</td>\n",
              "      <td>1290000</td>\n",
              "      <td>2011</td>\n",
              "    </tr>\n",
              "    <tr>\n",
              "      <th>15</th>\n",
              "      <td>DKI JAKARTA</td>\n",
              "      <td>5</td>\n",
              "      <td>1529150</td>\n",
              "      <td>2012</td>\n",
              "    </tr>\n",
              "    <tr>\n",
              "      <th>16</th>\n",
              "      <td>DKI JAKARTA</td>\n",
              "      <td>5</td>\n",
              "      <td>2200000</td>\n",
              "      <td>2013</td>\n",
              "    </tr>\n",
              "    <tr>\n",
              "      <th>17</th>\n",
              "      <td>DKI JAKARTA</td>\n",
              "      <td>5</td>\n",
              "      <td>2441000</td>\n",
              "      <td>2014</td>\n",
              "    </tr>\n",
              "    <tr>\n",
              "      <th>18</th>\n",
              "      <td>DKI JAKARTA</td>\n",
              "      <td>5</td>\n",
              "      <td>2700000</td>\n",
              "      <td>2015</td>\n",
              "    </tr>\n",
              "    <tr>\n",
              "      <th>19</th>\n",
              "      <td>DKI JAKARTA</td>\n",
              "      <td>5</td>\n",
              "      <td>3100000</td>\n",
              "      <td>2016</td>\n",
              "    </tr>\n",
              "    <tr>\n",
              "      <th>20</th>\n",
              "      <td>DKI JAKARTA</td>\n",
              "      <td>5</td>\n",
              "      <td>3355750</td>\n",
              "      <td>2017</td>\n",
              "    </tr>\n",
              "    <tr>\n",
              "      <th>21</th>\n",
              "      <td>DKI JAKARTA</td>\n",
              "      <td>5</td>\n",
              "      <td>3648036</td>\n",
              "      <td>2018</td>\n",
              "    </tr>\n",
              "    <tr>\n",
              "      <th>22</th>\n",
              "      <td>DKI JAKARTA</td>\n",
              "      <td>5</td>\n",
              "      <td>3940973</td>\n",
              "      <td>2019</td>\n",
              "    </tr>\n",
              "    <tr>\n",
              "      <th>23</th>\n",
              "      <td>DKI JAKARTA</td>\n",
              "      <td>5</td>\n",
              "      <td>4276350</td>\n",
              "      <td>2020</td>\n",
              "    </tr>\n",
              "    <tr>\n",
              "      <th>24</th>\n",
              "      <td>DKI JAKARTA</td>\n",
              "      <td>5</td>\n",
              "      <td>4416186</td>\n",
              "      <td>2021</td>\n",
              "    </tr>\n",
              "    <tr>\n",
              "      <th>25</th>\n",
              "      <td>DKI JAKARTA</td>\n",
              "      <td>5</td>\n",
              "      <td>4452724</td>\n",
              "      <td>2022</td>\n",
              "    </tr>\n",
              "  </tbody>\n",
              "</table>\n",
              "</div>\n",
              "      <button class=\"colab-df-convert\" onclick=\"convertToInteractive('df-0333a8d7-0ea0-4148-8f46-cd4f66d16979')\"\n",
              "              title=\"Convert this dataframe to an interactive table.\"\n",
              "              style=\"display:none;\">\n",
              "        \n",
              "  <svg xmlns=\"http://www.w3.org/2000/svg\" height=\"24px\"viewBox=\"0 0 24 24\"\n",
              "       width=\"24px\">\n",
              "    <path d=\"M0 0h24v24H0V0z\" fill=\"none\"/>\n",
              "    <path d=\"M18.56 5.44l.94 2.06.94-2.06 2.06-.94-2.06-.94-.94-2.06-.94 2.06-2.06.94zm-11 1L8.5 8.5l.94-2.06 2.06-.94-2.06-.94L8.5 2.5l-.94 2.06-2.06.94zm10 10l.94 2.06.94-2.06 2.06-.94-2.06-.94-.94-2.06-.94 2.06-2.06.94z\"/><path d=\"M17.41 7.96l-1.37-1.37c-.4-.4-.92-.59-1.43-.59-.52 0-1.04.2-1.43.59L10.3 9.45l-7.72 7.72c-.78.78-.78 2.05 0 2.83L4 21.41c.39.39.9.59 1.41.59.51 0 1.02-.2 1.41-.59l7.78-7.78 2.81-2.81c.8-.78.8-2.07 0-2.86zM5.41 20L4 18.59l7.72-7.72 1.47 1.35L5.41 20z\"/>\n",
              "  </svg>\n",
              "      </button>\n",
              "      \n",
              "  <style>\n",
              "    .colab-df-container {\n",
              "      display:flex;\n",
              "      flex-wrap:wrap;\n",
              "      gap: 12px;\n",
              "    }\n",
              "\n",
              "    .colab-df-convert {\n",
              "      background-color: #E8F0FE;\n",
              "      border: none;\n",
              "      border-radius: 50%;\n",
              "      cursor: pointer;\n",
              "      display: none;\n",
              "      fill: #1967D2;\n",
              "      height: 32px;\n",
              "      padding: 0 0 0 0;\n",
              "      width: 32px;\n",
              "    }\n",
              "\n",
              "    .colab-df-convert:hover {\n",
              "      background-color: #E2EBFA;\n",
              "      box-shadow: 0px 1px 2px rgba(60, 64, 67, 0.3), 0px 1px 3px 1px rgba(60, 64, 67, 0.15);\n",
              "      fill: #174EA6;\n",
              "    }\n",
              "\n",
              "    [theme=dark] .colab-df-convert {\n",
              "      background-color: #3B4455;\n",
              "      fill: #D2E3FC;\n",
              "    }\n",
              "\n",
              "    [theme=dark] .colab-df-convert:hover {\n",
              "      background-color: #434B5C;\n",
              "      box-shadow: 0px 1px 3px 1px rgba(0, 0, 0, 0.15);\n",
              "      filter: drop-shadow(0px 1px 2px rgba(0, 0, 0, 0.3));\n",
              "      fill: #FFFFFF;\n",
              "    }\n",
              "  </style>\n",
              "\n",
              "      <script>\n",
              "        const buttonEl =\n",
              "          document.querySelector('#df-0333a8d7-0ea0-4148-8f46-cd4f66d16979 button.colab-df-convert');\n",
              "        buttonEl.style.display =\n",
              "          google.colab.kernel.accessAllowed ? 'block' : 'none';\n",
              "\n",
              "        async function convertToInteractive(key) {\n",
              "          const element = document.querySelector('#df-0333a8d7-0ea0-4148-8f46-cd4f66d16979');\n",
              "          const dataTable =\n",
              "            await google.colab.kernel.invokeFunction('convertToInteractive',\n",
              "                                                     [key], {});\n",
              "          if (!dataTable) return;\n",
              "\n",
              "          const docLinkHtml = 'Like what you see? Visit the ' +\n",
              "            '<a target=\"_blank\" href=https://colab.research.google.com/notebooks/data_table.ipynb>data table notebook</a>'\n",
              "            + ' to learn more about interactive tables.';\n",
              "          element.innerHTML = '';\n",
              "          dataTable['output_type'] = 'display_data';\n",
              "          await google.colab.output.renderOutput(dataTable, element);\n",
              "          const docLink = document.createElement('div');\n",
              "          docLink.innerHTML = docLinkHtml;\n",
              "          element.appendChild(docLink);\n",
              "        }\n",
              "      </script>\n",
              "    </div>\n",
              "  </div>\n",
              "  "
            ]
          },
          "metadata": {},
          "execution_count": 92
        }
      ]
    },
    {
      "cell_type": "code",
      "source": [
        "#Fungsi untuk mengubah format menjadi rupiah\n",
        "def formatrupiah(uang):\n",
        "    y = str(uang)\n",
        "    if len(y) <= 3 :\n",
        "        return 'Rp ' + y     \n",
        "    else :\n",
        "        p = y[-3:]\n",
        "        q = y[:-3]\n",
        "        return formatrupiah(q) + '.' + p"
      ],
      "metadata": {
        "id": "lal2FNNQVpvf"
      },
      "execution_count": 93,
      "outputs": []
    },
    {
      "cell_type": "code",
      "source": [
        "#Hasil prediksi\n",
        "print('Prediksi UMR %s di tahun %d' %(reg, thn))\n",
        "prediksi = float(lin_reg.predict([[reg_cat,thn]]))\n",
        "print(formatrupiah(int(prediksi)))"
      ],
      "metadata": {
        "id": "POwpUTqNj6sD",
        "colab": {
          "base_uri": "https://localhost:8080/"
        },
        "outputId": "7824b964-e7bd-4d4a-98f7-640ad14f54f3"
      },
      "execution_count": 94,
      "outputs": [
        {
          "output_type": "stream",
          "name": "stdout",
          "text": [
            "Prediksi UMR DKI JAKARTA di tahun 2028\n",
            "Rp 3.172.556\n"
          ]
        }
      ]
    },
    {
      "cell_type": "code",
      "source": [
        "#Melakukan prediksi - tahun yang diinput\n",
        "pred = []\n",
        "for i in range(2023,thn):\n",
        "  pred.append([reg, reg_cat, int(lin_reg.predict([[reg_cat,i]])), i])\n",
        "\n",
        "# Set Array ke DataFrame\n",
        "df_pred = pd.DataFrame(pred)\n",
        "df_pred.columns = ['REGION', 'REGION_Cat', 'SALARY', 'YEAR']\n",
        "df_pred"
      ],
      "metadata": {
        "id": "nN4MZp_VwR8V",
        "colab": {
          "base_uri": "https://localhost:8080/",
          "height": 206
        },
        "outputId": "acbd292a-532a-4a62-db44-ecad062237ed"
      },
      "execution_count": 95,
      "outputs": [
        {
          "output_type": "execute_result",
          "data": {
            "text/plain": [
              "        REGION  REGION_Cat   SALARY  YEAR\n",
              "0  DKI JAKARTA           5  2611843  2023\n",
              "1  DKI JAKARTA           5  2723986  2024\n",
              "2  DKI JAKARTA           5  2836128  2025\n",
              "3  DKI JAKARTA           5  2948271  2026\n",
              "4  DKI JAKARTA           5  3060413  2027"
            ],
            "text/html": [
              "\n",
              "  <div id=\"df-cc495414-4b34-42aa-b4e6-1af11334be51\">\n",
              "    <div class=\"colab-df-container\">\n",
              "      <div>\n",
              "<style scoped>\n",
              "    .dataframe tbody tr th:only-of-type {\n",
              "        vertical-align: middle;\n",
              "    }\n",
              "\n",
              "    .dataframe tbody tr th {\n",
              "        vertical-align: top;\n",
              "    }\n",
              "\n",
              "    .dataframe thead th {\n",
              "        text-align: right;\n",
              "    }\n",
              "</style>\n",
              "<table border=\"1\" class=\"dataframe\">\n",
              "  <thead>\n",
              "    <tr style=\"text-align: right;\">\n",
              "      <th></th>\n",
              "      <th>REGION</th>\n",
              "      <th>REGION_Cat</th>\n",
              "      <th>SALARY</th>\n",
              "      <th>YEAR</th>\n",
              "    </tr>\n",
              "  </thead>\n",
              "  <tbody>\n",
              "    <tr>\n",
              "      <th>0</th>\n",
              "      <td>DKI JAKARTA</td>\n",
              "      <td>5</td>\n",
              "      <td>2611843</td>\n",
              "      <td>2023</td>\n",
              "    </tr>\n",
              "    <tr>\n",
              "      <th>1</th>\n",
              "      <td>DKI JAKARTA</td>\n",
              "      <td>5</td>\n",
              "      <td>2723986</td>\n",
              "      <td>2024</td>\n",
              "    </tr>\n",
              "    <tr>\n",
              "      <th>2</th>\n",
              "      <td>DKI JAKARTA</td>\n",
              "      <td>5</td>\n",
              "      <td>2836128</td>\n",
              "      <td>2025</td>\n",
              "    </tr>\n",
              "    <tr>\n",
              "      <th>3</th>\n",
              "      <td>DKI JAKARTA</td>\n",
              "      <td>5</td>\n",
              "      <td>2948271</td>\n",
              "      <td>2026</td>\n",
              "    </tr>\n",
              "    <tr>\n",
              "      <th>4</th>\n",
              "      <td>DKI JAKARTA</td>\n",
              "      <td>5</td>\n",
              "      <td>3060413</td>\n",
              "      <td>2027</td>\n",
              "    </tr>\n",
              "  </tbody>\n",
              "</table>\n",
              "</div>\n",
              "      <button class=\"colab-df-convert\" onclick=\"convertToInteractive('df-cc495414-4b34-42aa-b4e6-1af11334be51')\"\n",
              "              title=\"Convert this dataframe to an interactive table.\"\n",
              "              style=\"display:none;\">\n",
              "        \n",
              "  <svg xmlns=\"http://www.w3.org/2000/svg\" height=\"24px\"viewBox=\"0 0 24 24\"\n",
              "       width=\"24px\">\n",
              "    <path d=\"M0 0h24v24H0V0z\" fill=\"none\"/>\n",
              "    <path d=\"M18.56 5.44l.94 2.06.94-2.06 2.06-.94-2.06-.94-.94-2.06-.94 2.06-2.06.94zm-11 1L8.5 8.5l.94-2.06 2.06-.94-2.06-.94L8.5 2.5l-.94 2.06-2.06.94zm10 10l.94 2.06.94-2.06 2.06-.94-2.06-.94-.94-2.06-.94 2.06-2.06.94z\"/><path d=\"M17.41 7.96l-1.37-1.37c-.4-.4-.92-.59-1.43-.59-.52 0-1.04.2-1.43.59L10.3 9.45l-7.72 7.72c-.78.78-.78 2.05 0 2.83L4 21.41c.39.39.9.59 1.41.59.51 0 1.02-.2 1.41-.59l7.78-7.78 2.81-2.81c.8-.78.8-2.07 0-2.86zM5.41 20L4 18.59l7.72-7.72 1.47 1.35L5.41 20z\"/>\n",
              "  </svg>\n",
              "      </button>\n",
              "      \n",
              "  <style>\n",
              "    .colab-df-container {\n",
              "      display:flex;\n",
              "      flex-wrap:wrap;\n",
              "      gap: 12px;\n",
              "    }\n",
              "\n",
              "    .colab-df-convert {\n",
              "      background-color: #E8F0FE;\n",
              "      border: none;\n",
              "      border-radius: 50%;\n",
              "      cursor: pointer;\n",
              "      display: none;\n",
              "      fill: #1967D2;\n",
              "      height: 32px;\n",
              "      padding: 0 0 0 0;\n",
              "      width: 32px;\n",
              "    }\n",
              "\n",
              "    .colab-df-convert:hover {\n",
              "      background-color: #E2EBFA;\n",
              "      box-shadow: 0px 1px 2px rgba(60, 64, 67, 0.3), 0px 1px 3px 1px rgba(60, 64, 67, 0.15);\n",
              "      fill: #174EA6;\n",
              "    }\n",
              "\n",
              "    [theme=dark] .colab-df-convert {\n",
              "      background-color: #3B4455;\n",
              "      fill: #D2E3FC;\n",
              "    }\n",
              "\n",
              "    [theme=dark] .colab-df-convert:hover {\n",
              "      background-color: #434B5C;\n",
              "      box-shadow: 0px 1px 3px 1px rgba(0, 0, 0, 0.15);\n",
              "      filter: drop-shadow(0px 1px 2px rgba(0, 0, 0, 0.3));\n",
              "      fill: #FFFFFF;\n",
              "    }\n",
              "  </style>\n",
              "\n",
              "      <script>\n",
              "        const buttonEl =\n",
              "          document.querySelector('#df-cc495414-4b34-42aa-b4e6-1af11334be51 button.colab-df-convert');\n",
              "        buttonEl.style.display =\n",
              "          google.colab.kernel.accessAllowed ? 'block' : 'none';\n",
              "\n",
              "        async function convertToInteractive(key) {\n",
              "          const element = document.querySelector('#df-cc495414-4b34-42aa-b4e6-1af11334be51');\n",
              "          const dataTable =\n",
              "            await google.colab.kernel.invokeFunction('convertToInteractive',\n",
              "                                                     [key], {});\n",
              "          if (!dataTable) return;\n",
              "\n",
              "          const docLinkHtml = 'Like what you see? Visit the ' +\n",
              "            '<a target=\"_blank\" href=https://colab.research.google.com/notebooks/data_table.ipynb>data table notebook</a>'\n",
              "            + ' to learn more about interactive tables.';\n",
              "          element.innerHTML = '';\n",
              "          dataTable['output_type'] = 'display_data';\n",
              "          await google.colab.output.renderOutput(dataTable, element);\n",
              "          const docLink = document.createElement('div');\n",
              "          docLink.innerHTML = docLinkHtml;\n",
              "          element.appendChild(docLink);\n",
              "        }\n",
              "      </script>\n",
              "    </div>\n",
              "  </div>\n",
              "  "
            ]
          },
          "metadata": {},
          "execution_count": 95
        }
      ]
    },
    {
      "cell_type": "code",
      "source": [
        "#Concat hasil prediksi dengan data UMR\n",
        "df_newpred = pd.concat([df_dep, df_pred], ignore_index=True)"
      ],
      "metadata": {
        "id": "1zAPXQyWwTNj"
      },
      "execution_count": 96,
      "outputs": []
    },
    {
      "cell_type": "code",
      "source": [
        "# Visualisasi pergerakan UMR per Regional (tahun 1997-2022)\n",
        "fig = px.histogram(df_newpred, x='YEAR', y=\"SALARY\",\n",
        "  labels={\n",
        "      \"YEAR\": \"Tahun\",\n",
        "      \"SALARY\": \"UMR(Millions)\",\n",
        "      },\n",
        " title=\"UMR %s 1997 - 2022 + Prediksi 2023 - %s\" %(reg, thn))\n",
        "fig.update_xaxes(type='category')\n",
        "fig.show(\"png\")"
      ],
      "metadata": {
        "id": "Z7oFHYX2kG0E",
        "colab": {
          "base_uri": "https://localhost:8080/",
          "height": 517
        },
        "outputId": "8a1eb2ce-3270-4a61-fa4e-478dd415cca8"
      },
      "execution_count": 97,
      "outputs": [
        {
          "output_type": "display_data",
          "data": {
            "image/png": "[encoded data removed]"
          },
          "metadata": {}
        }
      ]
    }
  ]
}